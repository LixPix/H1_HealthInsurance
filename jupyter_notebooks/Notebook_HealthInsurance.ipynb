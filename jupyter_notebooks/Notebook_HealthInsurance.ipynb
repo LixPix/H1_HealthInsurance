{
  "cells": [
    {
      "cell_type": "markdown",
      "metadata": {
        "id": "0aStgWSO0E0E"
      },
      "source": [
        "# **(HACKATHON 1 HEALTH INSURANCE)**"
      ]
    },
    {
      "cell_type": "markdown",
      "metadata": {},
      "source": []
    },
    {
      "cell_type": "code",
      "execution_count": null,
      "metadata": {},
      "outputs": [],
      "source": []
    },
    {
      "cell_type": "markdown",
      "metadata": {
        "id": "1eLEkw5O0ECa"
      },
      "source": [
        "## Objectives\n",
        "\n",
        "*  \"Fetch data from Kaggle ( https://www.kaggle.com/datasets/willianoliveiragibin/healthcare-insurance ) and save as raw data\" \n",
        "*  \"Clean and transform data\" \n",
        "*  \"Engineer features for modelling and visualisation\"\n",
        "\n",
        "## Inputs\n",
        "\n",
        "* This dataset contains information on the relationship between personal attributes (age, gender, BMI, family size, smoking habits), geographic factors, and their impact on medical insurance charges.\n",
        "* Raw data: csv.file /1 File/Columns:8, Rows:1339 headers and index included\n",
        "\n",
        "## Outputs\n",
        "\n",
        "* Write here which files, code or artefacts you generate by the end of the notebook \n",
        "\n",
        "## Additional Comments\n",
        "\n",
        "* If you have any additional comments that don't fit in the previous bullets, please state them here. \n",
        "\n"
      ]
    },
    {
      "cell_type": "markdown",
      "metadata": {
        "id": "9uWZXH9LwoQg"
      },
      "source": [
        "---"
      ]
    },
    {
      "cell_type": "markdown",
      "metadata": {},
      "source": [
        "#                                                              Section 1- DATA CLEANING"
      ]
    },
    {
      "cell_type": "code",
      "execution_count": 71,
      "metadata": {},
      "outputs": [],
      "source": [
        "import pandas as pd\n",
        "import numpy as np\n",
        "import matplotlib.pyplot as plt\n",
        "import seaborn as sns\n"
      ]
    },
    {
      "cell_type": "code",
      "execution_count": 72,
      "metadata": {},
      "outputs": [],
      "source": [
        "df = pd.read_csv(r'C:\\\\Users\\lilia\\Documents\\LP\\Data AI\\Hackathons\\H1_HealtInsurance\\H1_HealthInsurance\\data\\inputs\\raw\\insurance.csv')"
      ]
    },
    {
      "cell_type": "markdown",
      "metadata": {},
      "source": [
        "#Check data type: object, float, etc & View a summary of the data frame "
      ]
    },
    {
      "cell_type": "code",
      "execution_count": 73,
      "metadata": {},
      "outputs": [
        {
          "name": "stdout",
          "output_type": "stream",
          "text": [
            "<class 'pandas.core.frame.DataFrame'>\n",
            "RangeIndex: 1338 entries, 0 to 1337\n",
            "Data columns (total 7 columns):\n",
            " #   Column    Non-Null Count  Dtype  \n",
            "---  ------    --------------  -----  \n",
            " 0   age       1338 non-null   int64  \n",
            " 1   sex       1338 non-null   object \n",
            " 2   bmi       1338 non-null   float64\n",
            " 3   children  1338 non-null   int64  \n",
            " 4   smoker    1338 non-null   object \n",
            " 5   region    1338 non-null   object \n",
            " 6   charges   1338 non-null   float64\n",
            "dtypes: float64(2), int64(2), object(3)\n",
            "memory usage: 73.3+ KB\n"
          ]
        },
        {
          "data": {
            "text/html": [
              "<div>\n",
              "<style scoped>\n",
              "    .dataframe tbody tr th:only-of-type {\n",
              "        vertical-align: middle;\n",
              "    }\n",
              "\n",
              "    .dataframe tbody tr th {\n",
              "        vertical-align: top;\n",
              "    }\n",
              "\n",
              "    .dataframe thead th {\n",
              "        text-align: right;\n",
              "    }\n",
              "</style>\n",
              "<table border=\"1\" class=\"dataframe\">\n",
              "  <thead>\n",
              "    <tr style=\"text-align: right;\">\n",
              "      <th></th>\n",
              "      <th>age</th>\n",
              "      <th>bmi</th>\n",
              "      <th>children</th>\n",
              "      <th>charges</th>\n",
              "    </tr>\n",
              "  </thead>\n",
              "  <tbody>\n",
              "    <tr>\n",
              "      <th>count</th>\n",
              "      <td>1338.000000</td>\n",
              "      <td>1338.000000</td>\n",
              "      <td>1338.000000</td>\n",
              "      <td>1338.000000</td>\n",
              "    </tr>\n",
              "    <tr>\n",
              "      <th>mean</th>\n",
              "      <td>39.207025</td>\n",
              "      <td>30.663397</td>\n",
              "      <td>1.094918</td>\n",
              "      <td>13270.422265</td>\n",
              "    </tr>\n",
              "    <tr>\n",
              "      <th>std</th>\n",
              "      <td>14.049960</td>\n",
              "      <td>6.098187</td>\n",
              "      <td>1.205493</td>\n",
              "      <td>12110.011237</td>\n",
              "    </tr>\n",
              "    <tr>\n",
              "      <th>min</th>\n",
              "      <td>18.000000</td>\n",
              "      <td>15.960000</td>\n",
              "      <td>0.000000</td>\n",
              "      <td>1121.873900</td>\n",
              "    </tr>\n",
              "    <tr>\n",
              "      <th>25%</th>\n",
              "      <td>27.000000</td>\n",
              "      <td>26.296250</td>\n",
              "      <td>0.000000</td>\n",
              "      <td>4740.287150</td>\n",
              "    </tr>\n",
              "    <tr>\n",
              "      <th>50%</th>\n",
              "      <td>39.000000</td>\n",
              "      <td>30.400000</td>\n",
              "      <td>1.000000</td>\n",
              "      <td>9382.033000</td>\n",
              "    </tr>\n",
              "    <tr>\n",
              "      <th>75%</th>\n",
              "      <td>51.000000</td>\n",
              "      <td>34.693750</td>\n",
              "      <td>2.000000</td>\n",
              "      <td>16639.912515</td>\n",
              "    </tr>\n",
              "    <tr>\n",
              "      <th>max</th>\n",
              "      <td>64.000000</td>\n",
              "      <td>53.130000</td>\n",
              "      <td>5.000000</td>\n",
              "      <td>63770.428010</td>\n",
              "    </tr>\n",
              "  </tbody>\n",
              "</table>\n",
              "</div>"
            ],
            "text/plain": [
              "               age          bmi     children       charges\n",
              "count  1338.000000  1338.000000  1338.000000   1338.000000\n",
              "mean     39.207025    30.663397     1.094918  13270.422265\n",
              "std      14.049960     6.098187     1.205493  12110.011237\n",
              "min      18.000000    15.960000     0.000000   1121.873900\n",
              "25%      27.000000    26.296250     0.000000   4740.287150\n",
              "50%      39.000000    30.400000     1.000000   9382.033000\n",
              "75%      51.000000    34.693750     2.000000  16639.912515\n",
              "max      64.000000    53.130000     5.000000  63770.428010"
            ]
          },
          "execution_count": 73,
          "metadata": {},
          "output_type": "execute_result"
        }
      ],
      "source": [
        "\n",
        "df.info()  \n",
        "df.describe() \n"
      ]
    },
    {
      "cell_type": "markdown",
      "metadata": {},
      "source": [
        "#Sample of first few rows"
      ]
    },
    {
      "cell_type": "code",
      "execution_count": 74,
      "metadata": {},
      "outputs": [
        {
          "data": {
            "text/html": [
              "<div>\n",
              "<style scoped>\n",
              "    .dataframe tbody tr th:only-of-type {\n",
              "        vertical-align: middle;\n",
              "    }\n",
              "\n",
              "    .dataframe tbody tr th {\n",
              "        vertical-align: top;\n",
              "    }\n",
              "\n",
              "    .dataframe thead th {\n",
              "        text-align: right;\n",
              "    }\n",
              "</style>\n",
              "<table border=\"1\" class=\"dataframe\">\n",
              "  <thead>\n",
              "    <tr style=\"text-align: right;\">\n",
              "      <th></th>\n",
              "      <th>age</th>\n",
              "      <th>sex</th>\n",
              "      <th>bmi</th>\n",
              "      <th>children</th>\n",
              "      <th>smoker</th>\n",
              "      <th>region</th>\n",
              "      <th>charges</th>\n",
              "    </tr>\n",
              "  </thead>\n",
              "  <tbody>\n",
              "    <tr>\n",
              "      <th>0</th>\n",
              "      <td>19</td>\n",
              "      <td>female</td>\n",
              "      <td>27.900</td>\n",
              "      <td>0</td>\n",
              "      <td>yes</td>\n",
              "      <td>southwest</td>\n",
              "      <td>16884.92400</td>\n",
              "    </tr>\n",
              "    <tr>\n",
              "      <th>1</th>\n",
              "      <td>18</td>\n",
              "      <td>male</td>\n",
              "      <td>33.770</td>\n",
              "      <td>1</td>\n",
              "      <td>no</td>\n",
              "      <td>southeast</td>\n",
              "      <td>1725.55230</td>\n",
              "    </tr>\n",
              "    <tr>\n",
              "      <th>2</th>\n",
              "      <td>28</td>\n",
              "      <td>male</td>\n",
              "      <td>33.000</td>\n",
              "      <td>3</td>\n",
              "      <td>no</td>\n",
              "      <td>southeast</td>\n",
              "      <td>4449.46200</td>\n",
              "    </tr>\n",
              "    <tr>\n",
              "      <th>3</th>\n",
              "      <td>33</td>\n",
              "      <td>male</td>\n",
              "      <td>22.705</td>\n",
              "      <td>0</td>\n",
              "      <td>no</td>\n",
              "      <td>northwest</td>\n",
              "      <td>21984.47061</td>\n",
              "    </tr>\n",
              "    <tr>\n",
              "      <th>4</th>\n",
              "      <td>32</td>\n",
              "      <td>male</td>\n",
              "      <td>28.880</td>\n",
              "      <td>0</td>\n",
              "      <td>no</td>\n",
              "      <td>northwest</td>\n",
              "      <td>3866.85520</td>\n",
              "    </tr>\n",
              "    <tr>\n",
              "      <th>5</th>\n",
              "      <td>31</td>\n",
              "      <td>female</td>\n",
              "      <td>25.740</td>\n",
              "      <td>0</td>\n",
              "      <td>no</td>\n",
              "      <td>southeast</td>\n",
              "      <td>3756.62160</td>\n",
              "    </tr>\n",
              "    <tr>\n",
              "      <th>6</th>\n",
              "      <td>46</td>\n",
              "      <td>female</td>\n",
              "      <td>33.440</td>\n",
              "      <td>1</td>\n",
              "      <td>no</td>\n",
              "      <td>southeast</td>\n",
              "      <td>8240.58960</td>\n",
              "    </tr>\n",
              "    <tr>\n",
              "      <th>7</th>\n",
              "      <td>37</td>\n",
              "      <td>female</td>\n",
              "      <td>27.740</td>\n",
              "      <td>3</td>\n",
              "      <td>no</td>\n",
              "      <td>northwest</td>\n",
              "      <td>7281.50560</td>\n",
              "    </tr>\n",
              "    <tr>\n",
              "      <th>8</th>\n",
              "      <td>37</td>\n",
              "      <td>male</td>\n",
              "      <td>29.830</td>\n",
              "      <td>2</td>\n",
              "      <td>no</td>\n",
              "      <td>northeast</td>\n",
              "      <td>6406.41070</td>\n",
              "    </tr>\n",
              "    <tr>\n",
              "      <th>9</th>\n",
              "      <td>60</td>\n",
              "      <td>female</td>\n",
              "      <td>25.840</td>\n",
              "      <td>0</td>\n",
              "      <td>no</td>\n",
              "      <td>northwest</td>\n",
              "      <td>28923.13692</td>\n",
              "    </tr>\n",
              "  </tbody>\n",
              "</table>\n",
              "</div>"
            ],
            "text/plain": [
              "   age     sex     bmi  children smoker     region      charges\n",
              "0   19  female  27.900         0    yes  southwest  16884.92400\n",
              "1   18    male  33.770         1     no  southeast   1725.55230\n",
              "2   28    male  33.000         3     no  southeast   4449.46200\n",
              "3   33    male  22.705         0     no  northwest  21984.47061\n",
              "4   32    male  28.880         0     no  northwest   3866.85520\n",
              "5   31  female  25.740         0     no  southeast   3756.62160\n",
              "6   46  female  33.440         1     no  southeast   8240.58960\n",
              "7   37  female  27.740         3     no  northwest   7281.50560\n",
              "8   37    male  29.830         2     no  northeast   6406.41070\n",
              "9   60  female  25.840         0     no  northwest  28923.13692"
            ]
          },
          "execution_count": 74,
          "metadata": {},
          "output_type": "execute_result"
        }
      ],
      "source": [
        "df.head(10)"
      ]
    },
    {
      "cell_type": "markdown",
      "metadata": {},
      "source": [
        "#Count of missing values per column"
      ]
    },
    {
      "cell_type": "code",
      "execution_count": 75,
      "metadata": {},
      "outputs": [
        {
          "data": {
            "text/plain": [
              "age         0\n",
              "sex         0\n",
              "bmi         0\n",
              "children    0\n",
              "smoker      0\n",
              "region      0\n",
              "charges     0\n",
              "dtype: int64"
            ]
          },
          "execution_count": 75,
          "metadata": {},
          "output_type": "execute_result"
        }
      ],
      "source": [
        "df.isnull().sum()"
      ]
    },
    {
      "cell_type": "markdown",
      "metadata": {},
      "source": [
        "#Round values for bmi and charges to 2 decimal numbers"
      ]
    },
    {
      "cell_type": "code",
      "execution_count": 76,
      "metadata": {},
      "outputs": [],
      "source": [
        "df['bmi'] = df['bmi'].round(2)\n",
        "df['charges'] = df['charges'].round(2)"
      ]
    },
    {
      "cell_type": "code",
      "execution_count": 77,
      "metadata": {},
      "outputs": [
        {
          "data": {
            "text/html": [
              "<div>\n",
              "<style scoped>\n",
              "    .dataframe tbody tr th:only-of-type {\n",
              "        vertical-align: middle;\n",
              "    }\n",
              "\n",
              "    .dataframe tbody tr th {\n",
              "        vertical-align: top;\n",
              "    }\n",
              "\n",
              "    .dataframe thead th {\n",
              "        text-align: right;\n",
              "    }\n",
              "</style>\n",
              "<table border=\"1\" class=\"dataframe\">\n",
              "  <thead>\n",
              "    <tr style=\"text-align: right;\">\n",
              "      <th></th>\n",
              "      <th>age</th>\n",
              "      <th>sex</th>\n",
              "      <th>bmi</th>\n",
              "      <th>children</th>\n",
              "      <th>smoker</th>\n",
              "      <th>region</th>\n",
              "      <th>charges</th>\n",
              "    </tr>\n",
              "  </thead>\n",
              "  <tbody>\n",
              "    <tr>\n",
              "      <th>0</th>\n",
              "      <td>19</td>\n",
              "      <td>female</td>\n",
              "      <td>27.90</td>\n",
              "      <td>0</td>\n",
              "      <td>yes</td>\n",
              "      <td>southwest</td>\n",
              "      <td>16884.92</td>\n",
              "    </tr>\n",
              "    <tr>\n",
              "      <th>1</th>\n",
              "      <td>18</td>\n",
              "      <td>male</td>\n",
              "      <td>33.77</td>\n",
              "      <td>1</td>\n",
              "      <td>no</td>\n",
              "      <td>southeast</td>\n",
              "      <td>1725.55</td>\n",
              "    </tr>\n",
              "    <tr>\n",
              "      <th>2</th>\n",
              "      <td>28</td>\n",
              "      <td>male</td>\n",
              "      <td>33.00</td>\n",
              "      <td>3</td>\n",
              "      <td>no</td>\n",
              "      <td>southeast</td>\n",
              "      <td>4449.46</td>\n",
              "    </tr>\n",
              "    <tr>\n",
              "      <th>3</th>\n",
              "      <td>33</td>\n",
              "      <td>male</td>\n",
              "      <td>22.70</td>\n",
              "      <td>0</td>\n",
              "      <td>no</td>\n",
              "      <td>northwest</td>\n",
              "      <td>21984.47</td>\n",
              "    </tr>\n",
              "    <tr>\n",
              "      <th>4</th>\n",
              "      <td>32</td>\n",
              "      <td>male</td>\n",
              "      <td>28.88</td>\n",
              "      <td>0</td>\n",
              "      <td>no</td>\n",
              "      <td>northwest</td>\n",
              "      <td>3866.86</td>\n",
              "    </tr>\n",
              "    <tr>\n",
              "      <th>5</th>\n",
              "      <td>31</td>\n",
              "      <td>female</td>\n",
              "      <td>25.74</td>\n",
              "      <td>0</td>\n",
              "      <td>no</td>\n",
              "      <td>southeast</td>\n",
              "      <td>3756.62</td>\n",
              "    </tr>\n",
              "    <tr>\n",
              "      <th>6</th>\n",
              "      <td>46</td>\n",
              "      <td>female</td>\n",
              "      <td>33.44</td>\n",
              "      <td>1</td>\n",
              "      <td>no</td>\n",
              "      <td>southeast</td>\n",
              "      <td>8240.59</td>\n",
              "    </tr>\n",
              "    <tr>\n",
              "      <th>7</th>\n",
              "      <td>37</td>\n",
              "      <td>female</td>\n",
              "      <td>27.74</td>\n",
              "      <td>3</td>\n",
              "      <td>no</td>\n",
              "      <td>northwest</td>\n",
              "      <td>7281.51</td>\n",
              "    </tr>\n",
              "    <tr>\n",
              "      <th>8</th>\n",
              "      <td>37</td>\n",
              "      <td>male</td>\n",
              "      <td>29.83</td>\n",
              "      <td>2</td>\n",
              "      <td>no</td>\n",
              "      <td>northeast</td>\n",
              "      <td>6406.41</td>\n",
              "    </tr>\n",
              "    <tr>\n",
              "      <th>9</th>\n",
              "      <td>60</td>\n",
              "      <td>female</td>\n",
              "      <td>25.84</td>\n",
              "      <td>0</td>\n",
              "      <td>no</td>\n",
              "      <td>northwest</td>\n",
              "      <td>28923.14</td>\n",
              "    </tr>\n",
              "  </tbody>\n",
              "</table>\n",
              "</div>"
            ],
            "text/plain": [
              "   age     sex    bmi  children smoker     region   charges\n",
              "0   19  female  27.90         0    yes  southwest  16884.92\n",
              "1   18    male  33.77         1     no  southeast   1725.55\n",
              "2   28    male  33.00         3     no  southeast   4449.46\n",
              "3   33    male  22.70         0     no  northwest  21984.47\n",
              "4   32    male  28.88         0     no  northwest   3866.86\n",
              "5   31  female  25.74         0     no  southeast   3756.62\n",
              "6   46  female  33.44         1     no  southeast   8240.59\n",
              "7   37  female  27.74         3     no  northwest   7281.51\n",
              "8   37    male  29.83         2     no  northeast   6406.41\n",
              "9   60  female  25.84         0     no  northwest  28923.14"
            ]
          },
          "execution_count": 77,
          "metadata": {},
          "output_type": "execute_result"
        }
      ],
      "source": [
        "df.head(10)"
      ]
    },
    {
      "cell_type": "markdown",
      "metadata": {},
      "source": [
        "#Syntax check"
      ]
    },
    {
      "cell_type": "code",
      "execution_count": 78,
      "metadata": {},
      "outputs": [
        {
          "name": "stdout",
          "output_type": "stream",
          "text": [
            "Unique values in 'sex': ['female' 'male']\n",
            "Unique values in 'smoker': ['yes' 'no']\n",
            "Unique values in 'region': ['southwest' 'southeast' 'northwest' 'northeast']\n"
          ]
        }
      ],
      "source": [
        "print(\"Unique values in 'sex':\", df['sex'].unique())\n",
        "print(\"Unique values in 'smoker':\", df['smoker'].unique())\n",
        "print(\"Unique values in 'region':\", df['region'].unique())"
      ]
    },
    {
      "cell_type": "markdown",
      "metadata": {},
      "source": [
        "#New column BMI ctg"
      ]
    },
    {
      "cell_type": "code",
      "execution_count": 79,
      "metadata": {},
      "outputs": [
        {
          "name": "stdout",
          "output_type": "stream",
          "text": [
            "      bmi         bmi_ctg\n",
            "0   27.90      Overweight\n",
            "1   33.77         Obesity\n",
            "2   33.00         Obesity\n",
            "3   22.70   Healthy range\n",
            "4   28.88      Overweight\n",
            "5   25.74      Overweight\n",
            "6   33.44         Obesity\n",
            "7   27.74      Overweight\n",
            "8   29.83      Overweight\n",
            "9   25.84      Overweight\n",
            "10  26.22      Overweight\n",
            "11  26.29      Overweight\n",
            "12  34.40         Obesity\n",
            "13  39.82         Obesity\n",
            "14  42.13  Severe obesity\n"
          ]
        }
      ],
      "source": [
        "def categorize_bmi(bmi):\n",
        "    if bmi < 18.5:\n",
        "        return 'Underweight'\n",
        "    elif 18.5 <= bmi <= 24.9:\n",
        "        return 'Healthy range'\n",
        "    elif 25 <= bmi <= 29.9:\n",
        "        return 'Overweight'\n",
        "    elif 30 <= bmi <= 39.9:\n",
        "        return 'Obesity'\n",
        "    else:\n",
        "        return 'Severe obesity'\n",
        "\n",
        "\n",
        "df['bmi_ctg'] = df['bmi'].apply(categorize_bmi)\n",
        "\n",
        "\n",
        "print(df[['bmi', 'bmi_ctg']].head(15))"
      ]
    },
    {
      "cell_type": "code",
      "execution_count": 80,
      "metadata": {},
      "outputs": [
        {
          "data": {
            "text/html": [
              "<div>\n",
              "<style scoped>\n",
              "    .dataframe tbody tr th:only-of-type {\n",
              "        vertical-align: middle;\n",
              "    }\n",
              "\n",
              "    .dataframe tbody tr th {\n",
              "        vertical-align: top;\n",
              "    }\n",
              "\n",
              "    .dataframe thead th {\n",
              "        text-align: right;\n",
              "    }\n",
              "</style>\n",
              "<table border=\"1\" class=\"dataframe\">\n",
              "  <thead>\n",
              "    <tr style=\"text-align: right;\">\n",
              "      <th></th>\n",
              "      <th>age</th>\n",
              "      <th>sex</th>\n",
              "      <th>bmi</th>\n",
              "      <th>children</th>\n",
              "      <th>smoker</th>\n",
              "      <th>region</th>\n",
              "      <th>charges</th>\n",
              "      <th>bmi_ctg</th>\n",
              "    </tr>\n",
              "  </thead>\n",
              "  <tbody>\n",
              "    <tr>\n",
              "      <th>0</th>\n",
              "      <td>19</td>\n",
              "      <td>female</td>\n",
              "      <td>27.90</td>\n",
              "      <td>0</td>\n",
              "      <td>yes</td>\n",
              "      <td>southwest</td>\n",
              "      <td>16884.92</td>\n",
              "      <td>Overweight</td>\n",
              "    </tr>\n",
              "    <tr>\n",
              "      <th>1</th>\n",
              "      <td>18</td>\n",
              "      <td>male</td>\n",
              "      <td>33.77</td>\n",
              "      <td>1</td>\n",
              "      <td>no</td>\n",
              "      <td>southeast</td>\n",
              "      <td>1725.55</td>\n",
              "      <td>Obesity</td>\n",
              "    </tr>\n",
              "    <tr>\n",
              "      <th>2</th>\n",
              "      <td>28</td>\n",
              "      <td>male</td>\n",
              "      <td>33.00</td>\n",
              "      <td>3</td>\n",
              "      <td>no</td>\n",
              "      <td>southeast</td>\n",
              "      <td>4449.46</td>\n",
              "      <td>Obesity</td>\n",
              "    </tr>\n",
              "    <tr>\n",
              "      <th>3</th>\n",
              "      <td>33</td>\n",
              "      <td>male</td>\n",
              "      <td>22.70</td>\n",
              "      <td>0</td>\n",
              "      <td>no</td>\n",
              "      <td>northwest</td>\n",
              "      <td>21984.47</td>\n",
              "      <td>Healthy range</td>\n",
              "    </tr>\n",
              "    <tr>\n",
              "      <th>4</th>\n",
              "      <td>32</td>\n",
              "      <td>male</td>\n",
              "      <td>28.88</td>\n",
              "      <td>0</td>\n",
              "      <td>no</td>\n",
              "      <td>northwest</td>\n",
              "      <td>3866.86</td>\n",
              "      <td>Overweight</td>\n",
              "    </tr>\n",
              "    <tr>\n",
              "      <th>5</th>\n",
              "      <td>31</td>\n",
              "      <td>female</td>\n",
              "      <td>25.74</td>\n",
              "      <td>0</td>\n",
              "      <td>no</td>\n",
              "      <td>southeast</td>\n",
              "      <td>3756.62</td>\n",
              "      <td>Overweight</td>\n",
              "    </tr>\n",
              "    <tr>\n",
              "      <th>6</th>\n",
              "      <td>46</td>\n",
              "      <td>female</td>\n",
              "      <td>33.44</td>\n",
              "      <td>1</td>\n",
              "      <td>no</td>\n",
              "      <td>southeast</td>\n",
              "      <td>8240.59</td>\n",
              "      <td>Obesity</td>\n",
              "    </tr>\n",
              "    <tr>\n",
              "      <th>7</th>\n",
              "      <td>37</td>\n",
              "      <td>female</td>\n",
              "      <td>27.74</td>\n",
              "      <td>3</td>\n",
              "      <td>no</td>\n",
              "      <td>northwest</td>\n",
              "      <td>7281.51</td>\n",
              "      <td>Overweight</td>\n",
              "    </tr>\n",
              "    <tr>\n",
              "      <th>8</th>\n",
              "      <td>37</td>\n",
              "      <td>male</td>\n",
              "      <td>29.83</td>\n",
              "      <td>2</td>\n",
              "      <td>no</td>\n",
              "      <td>northeast</td>\n",
              "      <td>6406.41</td>\n",
              "      <td>Overweight</td>\n",
              "    </tr>\n",
              "    <tr>\n",
              "      <th>9</th>\n",
              "      <td>60</td>\n",
              "      <td>female</td>\n",
              "      <td>25.84</td>\n",
              "      <td>0</td>\n",
              "      <td>no</td>\n",
              "      <td>northwest</td>\n",
              "      <td>28923.14</td>\n",
              "      <td>Overweight</td>\n",
              "    </tr>\n",
              "  </tbody>\n",
              "</table>\n",
              "</div>"
            ],
            "text/plain": [
              "   age     sex    bmi  children smoker     region   charges        bmi_ctg\n",
              "0   19  female  27.90         0    yes  southwest  16884.92     Overweight\n",
              "1   18    male  33.77         1     no  southeast   1725.55        Obesity\n",
              "2   28    male  33.00         3     no  southeast   4449.46        Obesity\n",
              "3   33    male  22.70         0     no  northwest  21984.47  Healthy range\n",
              "4   32    male  28.88         0     no  northwest   3866.86     Overweight\n",
              "5   31  female  25.74         0     no  southeast   3756.62     Overweight\n",
              "6   46  female  33.44         1     no  southeast   8240.59        Obesity\n",
              "7   37  female  27.74         3     no  northwest   7281.51     Overweight\n",
              "8   37    male  29.83         2     no  northeast   6406.41     Overweight\n",
              "9   60  female  25.84         0     no  northwest  28923.14     Overweight"
            ]
          },
          "execution_count": 80,
          "metadata": {},
          "output_type": "execute_result"
        }
      ],
      "source": [
        "df.head(10)\n"
      ]
    },
    {
      "cell_type": "markdown",
      "metadata": {},
      "source": [
        "# Save Cleaned Data"
      ]
    },
    {
      "cell_type": "code",
      "execution_count": 81,
      "metadata": {},
      "outputs": [],
      "source": [
        "df.to_csv('cleaned_healthcare_insurance.csv', index=False)\n"
      ]
    },
    {
      "cell_type": "code",
      "execution_count": 82,
      "metadata": {},
      "outputs": [],
      "source": [
        "import pandas as pd\n",
        "import numpy as np"
      ]
    },
    {
      "cell_type": "code",
      "execution_count": 83,
      "metadata": {},
      "outputs": [],
      "source": [
        "df_cleaned = pd.read_csv('cleaned_healthcare_insurance.csv')\n"
      ]
    },
    {
      "cell_type": "code",
      "execution_count": 84,
      "metadata": {},
      "outputs": [
        {
          "data": {
            "text/html": [
              "<div>\n",
              "<style scoped>\n",
              "    .dataframe tbody tr th:only-of-type {\n",
              "        vertical-align: middle;\n",
              "    }\n",
              "\n",
              "    .dataframe tbody tr th {\n",
              "        vertical-align: top;\n",
              "    }\n",
              "\n",
              "    .dataframe thead th {\n",
              "        text-align: right;\n",
              "    }\n",
              "</style>\n",
              "<table border=\"1\" class=\"dataframe\">\n",
              "  <thead>\n",
              "    <tr style=\"text-align: right;\">\n",
              "      <th></th>\n",
              "      <th>age</th>\n",
              "      <th>sex</th>\n",
              "      <th>bmi</th>\n",
              "      <th>children</th>\n",
              "      <th>smoker</th>\n",
              "      <th>region</th>\n",
              "      <th>charges</th>\n",
              "      <th>bmi_ctg</th>\n",
              "    </tr>\n",
              "  </thead>\n",
              "  <tbody>\n",
              "    <tr>\n",
              "      <th>0</th>\n",
              "      <td>19</td>\n",
              "      <td>female</td>\n",
              "      <td>27.90</td>\n",
              "      <td>0</td>\n",
              "      <td>yes</td>\n",
              "      <td>southwest</td>\n",
              "      <td>16884.92</td>\n",
              "      <td>Overweight</td>\n",
              "    </tr>\n",
              "    <tr>\n",
              "      <th>1</th>\n",
              "      <td>18</td>\n",
              "      <td>male</td>\n",
              "      <td>33.77</td>\n",
              "      <td>1</td>\n",
              "      <td>no</td>\n",
              "      <td>southeast</td>\n",
              "      <td>1725.55</td>\n",
              "      <td>Obesity</td>\n",
              "    </tr>\n",
              "    <tr>\n",
              "      <th>2</th>\n",
              "      <td>28</td>\n",
              "      <td>male</td>\n",
              "      <td>33.00</td>\n",
              "      <td>3</td>\n",
              "      <td>no</td>\n",
              "      <td>southeast</td>\n",
              "      <td>4449.46</td>\n",
              "      <td>Obesity</td>\n",
              "    </tr>\n",
              "    <tr>\n",
              "      <th>3</th>\n",
              "      <td>33</td>\n",
              "      <td>male</td>\n",
              "      <td>22.70</td>\n",
              "      <td>0</td>\n",
              "      <td>no</td>\n",
              "      <td>northwest</td>\n",
              "      <td>21984.47</td>\n",
              "      <td>Healthy range</td>\n",
              "    </tr>\n",
              "    <tr>\n",
              "      <th>4</th>\n",
              "      <td>32</td>\n",
              "      <td>male</td>\n",
              "      <td>28.88</td>\n",
              "      <td>0</td>\n",
              "      <td>no</td>\n",
              "      <td>northwest</td>\n",
              "      <td>3866.86</td>\n",
              "      <td>Overweight</td>\n",
              "    </tr>\n",
              "    <tr>\n",
              "      <th>5</th>\n",
              "      <td>31</td>\n",
              "      <td>female</td>\n",
              "      <td>25.74</td>\n",
              "      <td>0</td>\n",
              "      <td>no</td>\n",
              "      <td>southeast</td>\n",
              "      <td>3756.62</td>\n",
              "      <td>Overweight</td>\n",
              "    </tr>\n",
              "    <tr>\n",
              "      <th>6</th>\n",
              "      <td>46</td>\n",
              "      <td>female</td>\n",
              "      <td>33.44</td>\n",
              "      <td>1</td>\n",
              "      <td>no</td>\n",
              "      <td>southeast</td>\n",
              "      <td>8240.59</td>\n",
              "      <td>Obesity</td>\n",
              "    </tr>\n",
              "    <tr>\n",
              "      <th>7</th>\n",
              "      <td>37</td>\n",
              "      <td>female</td>\n",
              "      <td>27.74</td>\n",
              "      <td>3</td>\n",
              "      <td>no</td>\n",
              "      <td>northwest</td>\n",
              "      <td>7281.51</td>\n",
              "      <td>Overweight</td>\n",
              "    </tr>\n",
              "    <tr>\n",
              "      <th>8</th>\n",
              "      <td>37</td>\n",
              "      <td>male</td>\n",
              "      <td>29.83</td>\n",
              "      <td>2</td>\n",
              "      <td>no</td>\n",
              "      <td>northeast</td>\n",
              "      <td>6406.41</td>\n",
              "      <td>Overweight</td>\n",
              "    </tr>\n",
              "    <tr>\n",
              "      <th>9</th>\n",
              "      <td>60</td>\n",
              "      <td>female</td>\n",
              "      <td>25.84</td>\n",
              "      <td>0</td>\n",
              "      <td>no</td>\n",
              "      <td>northwest</td>\n",
              "      <td>28923.14</td>\n",
              "      <td>Overweight</td>\n",
              "    </tr>\n",
              "  </tbody>\n",
              "</table>\n",
              "</div>"
            ],
            "text/plain": [
              "   age     sex    bmi  children smoker     region   charges        bmi_ctg\n",
              "0   19  female  27.90         0    yes  southwest  16884.92     Overweight\n",
              "1   18    male  33.77         1     no  southeast   1725.55        Obesity\n",
              "2   28    male  33.00         3     no  southeast   4449.46        Obesity\n",
              "3   33    male  22.70         0     no  northwest  21984.47  Healthy range\n",
              "4   32    male  28.88         0     no  northwest   3866.86     Overweight\n",
              "5   31  female  25.74         0     no  southeast   3756.62     Overweight\n",
              "6   46  female  33.44         1     no  southeast   8240.59        Obesity\n",
              "7   37  female  27.74         3     no  northwest   7281.51     Overweight\n",
              "8   37    male  29.83         2     no  northeast   6406.41     Overweight\n",
              "9   60  female  25.84         0     no  northwest  28923.14     Overweight"
            ]
          },
          "execution_count": 84,
          "metadata": {},
          "output_type": "execute_result"
        }
      ],
      "source": [
        "df_cleaned.head(10)"
      ]
    },
    {
      "cell_type": "markdown",
      "metadata": {},
      "source": [
        "# Stage2- DATA VISUALISATION"
      ]
    },
    {
      "cell_type": "code",
      "execution_count": 85,
      "metadata": {},
      "outputs": [],
      "source": [
        "import plotly.express as px\n",
        "import plotly.graph_objects as go\n",
        "\n"
      ]
    },
    {
      "cell_type": "markdown",
      "metadata": {},
      "source": [
        "#Descriptive visualisation"
      ]
    },
    {
      "cell_type": "code",
      "execution_count": 86,
      "metadata": {},
      "outputs": [
        {
          "data": {
            "application/vnd.plotly.v1+json": {
              "config": {
                "plotlyServerURL": "https://plot.ly"
              },
              "data": [
                {
                  "hovertemplate": "BMI Category=%{x}<br>Avg Charges (£)=%{y}<extra></extra>",
                  "legendgroup": "",
                  "line": {
                    "color": "#636efa",
                    "dash": "solid"
                  },
                  "marker": {
                    "symbol": "circle"
                  },
                  "mode": "lines",
                  "name": "",
                  "orientation": "v",
                  "showlegend": false,
                  "type": "scatter",
                  "x": [
                    "Healthy range",
                    "Obesity",
                    "Overweight",
                    "Severe obesity",
                    "Underweight"
                  ],
                  "xaxis": "x",
                  "y": {
                    "bdata": "hfGq9b9FxEDbi613tAvOQODQFjj/eMVABBcUst5Uz0A/NV66GUrBQA==",
                    "dtype": "f8"
                  },
                  "yaxis": "y"
                }
              ],
              "layout": {
                "legend": {
                  "tracegroupgap": 0
                },
                "template": {
                  "data": {
                    "bar": [
                      {
                        "error_x": {
                          "color": "#2a3f5f"
                        },
                        "error_y": {
                          "color": "#2a3f5f"
                        },
                        "marker": {
                          "line": {
                            "color": "#E5ECF6",
                            "width": 0.5
                          },
                          "pattern": {
                            "fillmode": "overlay",
                            "size": 10,
                            "solidity": 0.2
                          }
                        },
                        "type": "bar"
                      }
                    ],
                    "barpolar": [
                      {
                        "marker": {
                          "line": {
                            "color": "#E5ECF6",
                            "width": 0.5
                          },
                          "pattern": {
                            "fillmode": "overlay",
                            "size": 10,
                            "solidity": 0.2
                          }
                        },
                        "type": "barpolar"
                      }
                    ],
                    "carpet": [
                      {
                        "aaxis": {
                          "endlinecolor": "#2a3f5f",
                          "gridcolor": "white",
                          "linecolor": "white",
                          "minorgridcolor": "white",
                          "startlinecolor": "#2a3f5f"
                        },
                        "baxis": {
                          "endlinecolor": "#2a3f5f",
                          "gridcolor": "white",
                          "linecolor": "white",
                          "minorgridcolor": "white",
                          "startlinecolor": "#2a3f5f"
                        },
                        "type": "carpet"
                      }
                    ],
                    "choropleth": [
                      {
                        "colorbar": {
                          "outlinewidth": 0,
                          "ticks": ""
                        },
                        "type": "choropleth"
                      }
                    ],
                    "contour": [
                      {
                        "colorbar": {
                          "outlinewidth": 0,
                          "ticks": ""
                        },
                        "colorscale": [
                          [
                            0,
                            "#0d0887"
                          ],
                          [
                            0.1111111111111111,
                            "#46039f"
                          ],
                          [
                            0.2222222222222222,
                            "#7201a8"
                          ],
                          [
                            0.3333333333333333,
                            "#9c179e"
                          ],
                          [
                            0.4444444444444444,
                            "#bd3786"
                          ],
                          [
                            0.5555555555555556,
                            "#d8576b"
                          ],
                          [
                            0.6666666666666666,
                            "#ed7953"
                          ],
                          [
                            0.7777777777777778,
                            "#fb9f3a"
                          ],
                          [
                            0.8888888888888888,
                            "#fdca26"
                          ],
                          [
                            1,
                            "#f0f921"
                          ]
                        ],
                        "type": "contour"
                      }
                    ],
                    "contourcarpet": [
                      {
                        "colorbar": {
                          "outlinewidth": 0,
                          "ticks": ""
                        },
                        "type": "contourcarpet"
                      }
                    ],
                    "heatmap": [
                      {
                        "colorbar": {
                          "outlinewidth": 0,
                          "ticks": ""
                        },
                        "colorscale": [
                          [
                            0,
                            "#0d0887"
                          ],
                          [
                            0.1111111111111111,
                            "#46039f"
                          ],
                          [
                            0.2222222222222222,
                            "#7201a8"
                          ],
                          [
                            0.3333333333333333,
                            "#9c179e"
                          ],
                          [
                            0.4444444444444444,
                            "#bd3786"
                          ],
                          [
                            0.5555555555555556,
                            "#d8576b"
                          ],
                          [
                            0.6666666666666666,
                            "#ed7953"
                          ],
                          [
                            0.7777777777777778,
                            "#fb9f3a"
                          ],
                          [
                            0.8888888888888888,
                            "#fdca26"
                          ],
                          [
                            1,
                            "#f0f921"
                          ]
                        ],
                        "type": "heatmap"
                      }
                    ],
                    "histogram": [
                      {
                        "marker": {
                          "pattern": {
                            "fillmode": "overlay",
                            "size": 10,
                            "solidity": 0.2
                          }
                        },
                        "type": "histogram"
                      }
                    ],
                    "histogram2d": [
                      {
                        "colorbar": {
                          "outlinewidth": 0,
                          "ticks": ""
                        },
                        "colorscale": [
                          [
                            0,
                            "#0d0887"
                          ],
                          [
                            0.1111111111111111,
                            "#46039f"
                          ],
                          [
                            0.2222222222222222,
                            "#7201a8"
                          ],
                          [
                            0.3333333333333333,
                            "#9c179e"
                          ],
                          [
                            0.4444444444444444,
                            "#bd3786"
                          ],
                          [
                            0.5555555555555556,
                            "#d8576b"
                          ],
                          [
                            0.6666666666666666,
                            "#ed7953"
                          ],
                          [
                            0.7777777777777778,
                            "#fb9f3a"
                          ],
                          [
                            0.8888888888888888,
                            "#fdca26"
                          ],
                          [
                            1,
                            "#f0f921"
                          ]
                        ],
                        "type": "histogram2d"
                      }
                    ],
                    "histogram2dcontour": [
                      {
                        "colorbar": {
                          "outlinewidth": 0,
                          "ticks": ""
                        },
                        "colorscale": [
                          [
                            0,
                            "#0d0887"
                          ],
                          [
                            0.1111111111111111,
                            "#46039f"
                          ],
                          [
                            0.2222222222222222,
                            "#7201a8"
                          ],
                          [
                            0.3333333333333333,
                            "#9c179e"
                          ],
                          [
                            0.4444444444444444,
                            "#bd3786"
                          ],
                          [
                            0.5555555555555556,
                            "#d8576b"
                          ],
                          [
                            0.6666666666666666,
                            "#ed7953"
                          ],
                          [
                            0.7777777777777778,
                            "#fb9f3a"
                          ],
                          [
                            0.8888888888888888,
                            "#fdca26"
                          ],
                          [
                            1,
                            "#f0f921"
                          ]
                        ],
                        "type": "histogram2dcontour"
                      }
                    ],
                    "mesh3d": [
                      {
                        "colorbar": {
                          "outlinewidth": 0,
                          "ticks": ""
                        },
                        "type": "mesh3d"
                      }
                    ],
                    "parcoords": [
                      {
                        "line": {
                          "colorbar": {
                            "outlinewidth": 0,
                            "ticks": ""
                          }
                        },
                        "type": "parcoords"
                      }
                    ],
                    "pie": [
                      {
                        "automargin": true,
                        "type": "pie"
                      }
                    ],
                    "scatter": [
                      {
                        "fillpattern": {
                          "fillmode": "overlay",
                          "size": 10,
                          "solidity": 0.2
                        },
                        "type": "scatter"
                      }
                    ],
                    "scatter3d": [
                      {
                        "line": {
                          "colorbar": {
                            "outlinewidth": 0,
                            "ticks": ""
                          }
                        },
                        "marker": {
                          "colorbar": {
                            "outlinewidth": 0,
                            "ticks": ""
                          }
                        },
                        "type": "scatter3d"
                      }
                    ],
                    "scattercarpet": [
                      {
                        "marker": {
                          "colorbar": {
                            "outlinewidth": 0,
                            "ticks": ""
                          }
                        },
                        "type": "scattercarpet"
                      }
                    ],
                    "scattergeo": [
                      {
                        "marker": {
                          "colorbar": {
                            "outlinewidth": 0,
                            "ticks": ""
                          }
                        },
                        "type": "scattergeo"
                      }
                    ],
                    "scattergl": [
                      {
                        "marker": {
                          "colorbar": {
                            "outlinewidth": 0,
                            "ticks": ""
                          }
                        },
                        "type": "scattergl"
                      }
                    ],
                    "scattermap": [
                      {
                        "marker": {
                          "colorbar": {
                            "outlinewidth": 0,
                            "ticks": ""
                          }
                        },
                        "type": "scattermap"
                      }
                    ],
                    "scattermapbox": [
                      {
                        "marker": {
                          "colorbar": {
                            "outlinewidth": 0,
                            "ticks": ""
                          }
                        },
                        "type": "scattermapbox"
                      }
                    ],
                    "scatterpolar": [
                      {
                        "marker": {
                          "colorbar": {
                            "outlinewidth": 0,
                            "ticks": ""
                          }
                        },
                        "type": "scatterpolar"
                      }
                    ],
                    "scatterpolargl": [
                      {
                        "marker": {
                          "colorbar": {
                            "outlinewidth": 0,
                            "ticks": ""
                          }
                        },
                        "type": "scatterpolargl"
                      }
                    ],
                    "scatterternary": [
                      {
                        "marker": {
                          "colorbar": {
                            "outlinewidth": 0,
                            "ticks": ""
                          }
                        },
                        "type": "scatterternary"
                      }
                    ],
                    "surface": [
                      {
                        "colorbar": {
                          "outlinewidth": 0,
                          "ticks": ""
                        },
                        "colorscale": [
                          [
                            0,
                            "#0d0887"
                          ],
                          [
                            0.1111111111111111,
                            "#46039f"
                          ],
                          [
                            0.2222222222222222,
                            "#7201a8"
                          ],
                          [
                            0.3333333333333333,
                            "#9c179e"
                          ],
                          [
                            0.4444444444444444,
                            "#bd3786"
                          ],
                          [
                            0.5555555555555556,
                            "#d8576b"
                          ],
                          [
                            0.6666666666666666,
                            "#ed7953"
                          ],
                          [
                            0.7777777777777778,
                            "#fb9f3a"
                          ],
                          [
                            0.8888888888888888,
                            "#fdca26"
                          ],
                          [
                            1,
                            "#f0f921"
                          ]
                        ],
                        "type": "surface"
                      }
                    ],
                    "table": [
                      {
                        "cells": {
                          "fill": {
                            "color": "#EBF0F8"
                          },
                          "line": {
                            "color": "white"
                          }
                        },
                        "header": {
                          "fill": {
                            "color": "#C8D4E3"
                          },
                          "line": {
                            "color": "white"
                          }
                        },
                        "type": "table"
                      }
                    ]
                  },
                  "layout": {
                    "annotationdefaults": {
                      "arrowcolor": "#2a3f5f",
                      "arrowhead": 0,
                      "arrowwidth": 1
                    },
                    "autotypenumbers": "strict",
                    "coloraxis": {
                      "colorbar": {
                        "outlinewidth": 0,
                        "ticks": ""
                      }
                    },
                    "colorscale": {
                      "diverging": [
                        [
                          0,
                          "#8e0152"
                        ],
                        [
                          0.1,
                          "#c51b7d"
                        ],
                        [
                          0.2,
                          "#de77ae"
                        ],
                        [
                          0.3,
                          "#f1b6da"
                        ],
                        [
                          0.4,
                          "#fde0ef"
                        ],
                        [
                          0.5,
                          "#f7f7f7"
                        ],
                        [
                          0.6,
                          "#e6f5d0"
                        ],
                        [
                          0.7,
                          "#b8e186"
                        ],
                        [
                          0.8,
                          "#7fbc41"
                        ],
                        [
                          0.9,
                          "#4d9221"
                        ],
                        [
                          1,
                          "#276419"
                        ]
                      ],
                      "sequential": [
                        [
                          0,
                          "#0d0887"
                        ],
                        [
                          0.1111111111111111,
                          "#46039f"
                        ],
                        [
                          0.2222222222222222,
                          "#7201a8"
                        ],
                        [
                          0.3333333333333333,
                          "#9c179e"
                        ],
                        [
                          0.4444444444444444,
                          "#bd3786"
                        ],
                        [
                          0.5555555555555556,
                          "#d8576b"
                        ],
                        [
                          0.6666666666666666,
                          "#ed7953"
                        ],
                        [
                          0.7777777777777778,
                          "#fb9f3a"
                        ],
                        [
                          0.8888888888888888,
                          "#fdca26"
                        ],
                        [
                          1,
                          "#f0f921"
                        ]
                      ],
                      "sequentialminus": [
                        [
                          0,
                          "#0d0887"
                        ],
                        [
                          0.1111111111111111,
                          "#46039f"
                        ],
                        [
                          0.2222222222222222,
                          "#7201a8"
                        ],
                        [
                          0.3333333333333333,
                          "#9c179e"
                        ],
                        [
                          0.4444444444444444,
                          "#bd3786"
                        ],
                        [
                          0.5555555555555556,
                          "#d8576b"
                        ],
                        [
                          0.6666666666666666,
                          "#ed7953"
                        ],
                        [
                          0.7777777777777778,
                          "#fb9f3a"
                        ],
                        [
                          0.8888888888888888,
                          "#fdca26"
                        ],
                        [
                          1,
                          "#f0f921"
                        ]
                      ]
                    },
                    "colorway": [
                      "#636efa",
                      "#EF553B",
                      "#00cc96",
                      "#ab63fa",
                      "#FFA15A",
                      "#19d3f3",
                      "#FF6692",
                      "#B6E880",
                      "#FF97FF",
                      "#FECB52"
                    ],
                    "font": {
                      "color": "#2a3f5f"
                    },
                    "geo": {
                      "bgcolor": "white",
                      "lakecolor": "white",
                      "landcolor": "#E5ECF6",
                      "showlakes": true,
                      "showland": true,
                      "subunitcolor": "white"
                    },
                    "hoverlabel": {
                      "align": "left"
                    },
                    "hovermode": "closest",
                    "mapbox": {
                      "style": "light"
                    },
                    "paper_bgcolor": "white",
                    "plot_bgcolor": "#E5ECF6",
                    "polar": {
                      "angularaxis": {
                        "gridcolor": "white",
                        "linecolor": "white",
                        "ticks": ""
                      },
                      "bgcolor": "#E5ECF6",
                      "radialaxis": {
                        "gridcolor": "white",
                        "linecolor": "white",
                        "ticks": ""
                      }
                    },
                    "scene": {
                      "xaxis": {
                        "backgroundcolor": "#E5ECF6",
                        "gridcolor": "white",
                        "gridwidth": 2,
                        "linecolor": "white",
                        "showbackground": true,
                        "ticks": "",
                        "zerolinecolor": "white"
                      },
                      "yaxis": {
                        "backgroundcolor": "#E5ECF6",
                        "gridcolor": "white",
                        "gridwidth": 2,
                        "linecolor": "white",
                        "showbackground": true,
                        "ticks": "",
                        "zerolinecolor": "white"
                      },
                      "zaxis": {
                        "backgroundcolor": "#E5ECF6",
                        "gridcolor": "white",
                        "gridwidth": 2,
                        "linecolor": "white",
                        "showbackground": true,
                        "ticks": "",
                        "zerolinecolor": "white"
                      }
                    },
                    "shapedefaults": {
                      "line": {
                        "color": "#2a3f5f"
                      }
                    },
                    "ternary": {
                      "aaxis": {
                        "gridcolor": "white",
                        "linecolor": "white",
                        "ticks": ""
                      },
                      "baxis": {
                        "gridcolor": "white",
                        "linecolor": "white",
                        "ticks": ""
                      },
                      "bgcolor": "#E5ECF6",
                      "caxis": {
                        "gridcolor": "white",
                        "linecolor": "white",
                        "ticks": ""
                      }
                    },
                    "title": {
                      "x": 0.05
                    },
                    "xaxis": {
                      "automargin": true,
                      "gridcolor": "white",
                      "linecolor": "white",
                      "ticks": "",
                      "title": {
                        "standoff": 15
                      },
                      "zerolinecolor": "white",
                      "zerolinewidth": 2
                    },
                    "yaxis": {
                      "automargin": true,
                      "gridcolor": "white",
                      "linecolor": "white",
                      "ticks": "",
                      "title": {
                        "standoff": 15
                      },
                      "zerolinecolor": "white",
                      "zerolinewidth": 2
                    }
                  }
                },
                "title": {
                  "text": "Average Insurance Charges by BMI Category"
                },
                "xaxis": {
                  "anchor": "y",
                  "domain": [
                    0,
                    1
                  ],
                  "title": {
                    "text": "BMI Category"
                  }
                },
                "yaxis": {
                  "anchor": "x",
                  "domain": [
                    0,
                    1
                  ],
                  "title": {
                    "text": "Avg Charges (£)"
                  }
                }
              }
            }
          },
          "metadata": {},
          "output_type": "display_data"
        }
      ],
      "source": [
        "avg_charges_by_bmi = df_cleaned.groupby('bmi_ctg', as_index=False)['charges'].mean()\n",
        "fig = px.line(avg_charges_by_bmi, x='bmi_ctg', y='charges',\n",
        "              title='Average Insurance Charges by BMI Category',\n",
        "              labels={'charges': 'Avg Charges (£)', 'bmi_ctg': 'BMI Category'})\n",
        "fig.show()\n",
        "\n"
      ]
    },
    {
      "cell_type": "code",
      "execution_count": 87,
      "metadata": {},
      "outputs": [
        {
          "data": {
            "image/png": "[encoded data removed]",
            "text/plain": [
              "<Figure size 1000x600 with 1 Axes>"
            ]
          },
          "metadata": {},
          "output_type": "display_data"
        }
      ],
      "source": [
        "\n",
        "plt.figure(figsize=(10, 6))\n",
        "\n",
        "# Create the scatter plot\n",
        "sns.scatterplot(x='bmi', y='charges', hue='bmi_ctg', palette='coolwarm', data=df, s=100, alpha=0.7)\n",
        "\n",
        "# Customize the plot\n",
        "plt.title('Insurance Charges vs BMI with BMI Categories', fontsize=14)\n",
        "plt.xlabel('BMI', fontsize=12)\n",
        "plt.ylabel('Insurance Charges', fontsize=12)\n",
        "plt.legend(title='BMI Categories', bbox_to_anchor=(1.05, 1), loc='upper left')\n",
        "\n",
        "# Display the plot\n",
        "plt.tight_layout()\n",
        "plt.show()"
      ]
    },
    {
      "cell_type": "code",
      "execution_count": 88,
      "metadata": {},
      "outputs": [
        {
          "data": {
            "application/vnd.plotly.v1+json": {
              "config": {
                "plotlyServerURL": "https://plot.ly"
              },
              "data": [
                {
                  "mode": "lines+markers",
                  "name": "Age",
                  "type": "scatter",
                  "x": {
                    "bdata": "EhMUFRYXGBkaGxwdHh8gISIjJCUmJygpKissLS4vMDEyMzQ1Njc4OTo7PD0+P0A=",
                    "dtype": "i1"
                  },
                  "xaxis": "x",
                  "y": {
                    "bdata": "ucryzDeuu0CWL8li9AnDQPzbzVXZ18NA99kFxHZ6skA15Nxnd47DQM59dgHpQchAnfvsAgLMxECF61G4LjfDQPvsAmLT9bdAYlNpyFnMx0AAAAAAmLbBQF5jvm4UX8RAOY7jOI7XyEC68oBkferDQCcDzFkmAsJA8JCoIsQfyEBxsKCkw67GQFH8GHOXFcZASS7/IT3Wx0DChqdX+pjRQJf/kH67pr9AMnctIR8Bx0BBkYswIP7GQDtMXW7f2sJAqcAs7oSCyUBoOmLf0dDSQK8QHNKy+c5AZloAgxn3zECH97ebSwPMQGZgs/R/PdFAAAAAAECUzECT1fLGAMzIQG2csWWAl85AC1p9qSChzkCtxAdCEdTRQBZf8RV3Ss9AwJPV8qJR0kApXI/CRZLPQPcOiSrCWM1AUdLx6csP0EBYObTIdhvLQCbChqf3c9JAinUI09p21UBqLeZFHYLVQDPyIMr2ttJALyuh6j9r00CnH2r64brWQA==",
                    "dtype": "f8"
                  },
                  "yaxis": "y"
                },
                {
                  "name": "Gender",
                  "type": "bar",
                  "x": [
                    "female",
                    "male"
                  ],
                  "xaxis": "x2",
                  "y": {
                    "bdata": "ysRdE8qMyEDdQ6ArYELLQA==",
                    "dtype": "f8"
                  },
                  "yaxis": "y2"
                },
                {
                  "name": "Region",
                  "type": "bar",
                  "x": [
                    "northeast",
                    "northwest",
                    "southeast",
                    "southwest"
                  ],
                  "xaxis": "x3",
                  "y": {
                    "bdata": "z0eIOjEvykDpNSWfyUDIQBLrfau0x8xAG4dAAHgdyEA=",
                    "dtype": "f8"
                  },
                  "yaxis": "y3"
                }
              ],
              "layout": {
                "annotations": [
                  {
                    "font": {
                      "size": 16
                    },
                    "showarrow": false,
                    "text": "Avg Charges by Age",
                    "x": 0.14444444444444446,
                    "xanchor": "center",
                    "xref": "paper",
                    "y": 1,
                    "yanchor": "bottom",
                    "yref": "paper"
                  },
                  {
                    "font": {
                      "size": 16
                    },
                    "showarrow": false,
                    "text": "Avg Charges by Gender",
                    "x": 0.5,
                    "xanchor": "center",
                    "xref": "paper",
                    "y": 1,
                    "yanchor": "bottom",
                    "yref": "paper"
                  },
                  {
                    "font": {
                      "size": 16
                    },
                    "showarrow": false,
                    "text": "Avg Charges by Region",
                    "x": 0.8555555555555556,
                    "xanchor": "center",
                    "xref": "paper",
                    "y": 1,
                    "yanchor": "bottom",
                    "yref": "paper"
                  }
                ],
                "height": 400,
                "template": {
                  "data": {
                    "bar": [
                      {
                        "error_x": {
                          "color": "#2a3f5f"
                        },
                        "error_y": {
                          "color": "#2a3f5f"
                        },
                        "marker": {
                          "line": {
                            "color": "#E5ECF6",
                            "width": 0.5
                          },
                          "pattern": {
                            "fillmode": "overlay",
                            "size": 10,
                            "solidity": 0.2
                          }
                        },
                        "type": "bar"
                      }
                    ],
                    "barpolar": [
                      {
                        "marker": {
                          "line": {
                            "color": "#E5ECF6",
                            "width": 0.5
                          },
                          "pattern": {
                            "fillmode": "overlay",
                            "size": 10,
                            "solidity": 0.2
                          }
                        },
                        "type": "barpolar"
                      }
                    ],
                    "carpet": [
                      {
                        "aaxis": {
                          "endlinecolor": "#2a3f5f",
                          "gridcolor": "white",
                          "linecolor": "white",
                          "minorgridcolor": "white",
                          "startlinecolor": "#2a3f5f"
                        },
                        "baxis": {
                          "endlinecolor": "#2a3f5f",
                          "gridcolor": "white",
                          "linecolor": "white",
                          "minorgridcolor": "white",
                          "startlinecolor": "#2a3f5f"
                        },
                        "type": "carpet"
                      }
                    ],
                    "choropleth": [
                      {
                        "colorbar": {
                          "outlinewidth": 0,
                          "ticks": ""
                        },
                        "type": "choropleth"
                      }
                    ],
                    "contour": [
                      {
                        "colorbar": {
                          "outlinewidth": 0,
                          "ticks": ""
                        },
                        "colorscale": [
                          [
                            0,
                            "#0d0887"
                          ],
                          [
                            0.1111111111111111,
                            "#46039f"
                          ],
                          [
                            0.2222222222222222,
                            "#7201a8"
                          ],
                          [
                            0.3333333333333333,
                            "#9c179e"
                          ],
                          [
                            0.4444444444444444,
                            "#bd3786"
                          ],
                          [
                            0.5555555555555556,
                            "#d8576b"
                          ],
                          [
                            0.6666666666666666,
                            "#ed7953"
                          ],
                          [
                            0.7777777777777778,
                            "#fb9f3a"
                          ],
                          [
                            0.8888888888888888,
                            "#fdca26"
                          ],
                          [
                            1,
                            "#f0f921"
                          ]
                        ],
                        "type": "contour"
                      }
                    ],
                    "contourcarpet": [
                      {
                        "colorbar": {
                          "outlinewidth": 0,
                          "ticks": ""
                        },
                        "type": "contourcarpet"
                      }
                    ],
                    "heatmap": [
                      {
                        "colorbar": {
                          "outlinewidth": 0,
                          "ticks": ""
                        },
                        "colorscale": [
                          [
                            0,
                            "#0d0887"
                          ],
                          [
                            0.1111111111111111,
                            "#46039f"
                          ],
                          [
                            0.2222222222222222,
                            "#7201a8"
                          ],
                          [
                            0.3333333333333333,
                            "#9c179e"
                          ],
                          [
                            0.4444444444444444,
                            "#bd3786"
                          ],
                          [
                            0.5555555555555556,
                            "#d8576b"
                          ],
                          [
                            0.6666666666666666,
                            "#ed7953"
                          ],
                          [
                            0.7777777777777778,
                            "#fb9f3a"
                          ],
                          [
                            0.8888888888888888,
                            "#fdca26"
                          ],
                          [
                            1,
                            "#f0f921"
                          ]
                        ],
                        "type": "heatmap"
                      }
                    ],
                    "histogram": [
                      {
                        "marker": {
                          "pattern": {
                            "fillmode": "overlay",
                            "size": 10,
                            "solidity": 0.2
                          }
                        },
                        "type": "histogram"
                      }
                    ],
                    "histogram2d": [
                      {
                        "colorbar": {
                          "outlinewidth": 0,
                          "ticks": ""
                        },
                        "colorscale": [
                          [
                            0,
                            "#0d0887"
                          ],
                          [
                            0.1111111111111111,
                            "#46039f"
                          ],
                          [
                            0.2222222222222222,
                            "#7201a8"
                          ],
                          [
                            0.3333333333333333,
                            "#9c179e"
                          ],
                          [
                            0.4444444444444444,
                            "#bd3786"
                          ],
                          [
                            0.5555555555555556,
                            "#d8576b"
                          ],
                          [
                            0.6666666666666666,
                            "#ed7953"
                          ],
                          [
                            0.7777777777777778,
                            "#fb9f3a"
                          ],
                          [
                            0.8888888888888888,
                            "#fdca26"
                          ],
                          [
                            1,
                            "#f0f921"
                          ]
                        ],
                        "type": "histogram2d"
                      }
                    ],
                    "histogram2dcontour": [
                      {
                        "colorbar": {
                          "outlinewidth": 0,
                          "ticks": ""
                        },
                        "colorscale": [
                          [
                            0,
                            "#0d0887"
                          ],
                          [
                            0.1111111111111111,
                            "#46039f"
                          ],
                          [
                            0.2222222222222222,
                            "#7201a8"
                          ],
                          [
                            0.3333333333333333,
                            "#9c179e"
                          ],
                          [
                            0.4444444444444444,
                            "#bd3786"
                          ],
                          [
                            0.5555555555555556,
                            "#d8576b"
                          ],
                          [
                            0.6666666666666666,
                            "#ed7953"
                          ],
                          [
                            0.7777777777777778,
                            "#fb9f3a"
                          ],
                          [
                            0.8888888888888888,
                            "#fdca26"
                          ],
                          [
                            1,
                            "#f0f921"
                          ]
                        ],
                        "type": "histogram2dcontour"
                      }
                    ],
                    "mesh3d": [
                      {
                        "colorbar": {
                          "outlinewidth": 0,
                          "ticks": ""
                        },
                        "type": "mesh3d"
                      }
                    ],
                    "parcoords": [
                      {
                        "line": {
                          "colorbar": {
                            "outlinewidth": 0,
                            "ticks": ""
                          }
                        },
                        "type": "parcoords"
                      }
                    ],
                    "pie": [
                      {
                        "automargin": true,
                        "type": "pie"
                      }
                    ],
                    "scatter": [
                      {
                        "fillpattern": {
                          "fillmode": "overlay",
                          "size": 10,
                          "solidity": 0.2
                        },
                        "type": "scatter"
                      }
                    ],
                    "scatter3d": [
                      {
                        "line": {
                          "colorbar": {
                            "outlinewidth": 0,
                            "ticks": ""
                          }
                        },
                        "marker": {
                          "colorbar": {
                            "outlinewidth": 0,
                            "ticks": ""
                          }
                        },
                        "type": "scatter3d"
                      }
                    ],
                    "scattercarpet": [
                      {
                        "marker": {
                          "colorbar": {
                            "outlinewidth": 0,
                            "ticks": ""
                          }
                        },
                        "type": "scattercarpet"
                      }
                    ],
                    "scattergeo": [
                      {
                        "marker": {
                          "colorbar": {
                            "outlinewidth": 0,
                            "ticks": ""
                          }
                        },
                        "type": "scattergeo"
                      }
                    ],
                    "scattergl": [
                      {
                        "marker": {
                          "colorbar": {
                            "outlinewidth": 0,
                            "ticks": ""
                          }
                        },
                        "type": "scattergl"
                      }
                    ],
                    "scattermap": [
                      {
                        "marker": {
                          "colorbar": {
                            "outlinewidth": 0,
                            "ticks": ""
                          }
                        },
                        "type": "scattermap"
                      }
                    ],
                    "scattermapbox": [
                      {
                        "marker": {
                          "colorbar": {
                            "outlinewidth": 0,
                            "ticks": ""
                          }
                        },
                        "type": "scattermapbox"
                      }
                    ],
                    "scatterpolar": [
                      {
                        "marker": {
                          "colorbar": {
                            "outlinewidth": 0,
                            "ticks": ""
                          }
                        },
                        "type": "scatterpolar"
                      }
                    ],
                    "scatterpolargl": [
                      {
                        "marker": {
                          "colorbar": {
                            "outlinewidth": 0,
                            "ticks": ""
                          }
                        },
                        "type": "scatterpolargl"
                      }
                    ],
                    "scatterternary": [
                      {
                        "marker": {
                          "colorbar": {
                            "outlinewidth": 0,
                            "ticks": ""
                          }
                        },
                        "type": "scatterternary"
                      }
                    ],
                    "surface": [
                      {
                        "colorbar": {
                          "outlinewidth": 0,
                          "ticks": ""
                        },
                        "colorscale": [
                          [
                            0,
                            "#0d0887"
                          ],
                          [
                            0.1111111111111111,
                            "#46039f"
                          ],
                          [
                            0.2222222222222222,
                            "#7201a8"
                          ],
                          [
                            0.3333333333333333,
                            "#9c179e"
                          ],
                          [
                            0.4444444444444444,
                            "#bd3786"
                          ],
                          [
                            0.5555555555555556,
                            "#d8576b"
                          ],
                          [
                            0.6666666666666666,
                            "#ed7953"
                          ],
                          [
                            0.7777777777777778,
                            "#fb9f3a"
                          ],
                          [
                            0.8888888888888888,
                            "#fdca26"
                          ],
                          [
                            1,
                            "#f0f921"
                          ]
                        ],
                        "type": "surface"
                      }
                    ],
                    "table": [
                      {
                        "cells": {
                          "fill": {
                            "color": "#EBF0F8"
                          },
                          "line": {
                            "color": "white"
                          }
                        },
                        "header": {
                          "fill": {
                            "color": "#C8D4E3"
                          },
                          "line": {
                            "color": "white"
                          }
                        },
                        "type": "table"
                      }
                    ]
                  },
                  "layout": {
                    "annotationdefaults": {
                      "arrowcolor": "#2a3f5f",
                      "arrowhead": 0,
                      "arrowwidth": 1
                    },
                    "autotypenumbers": "strict",
                    "coloraxis": {
                      "colorbar": {
                        "outlinewidth": 0,
                        "ticks": ""
                      }
                    },
                    "colorscale": {
                      "diverging": [
                        [
                          0,
                          "#8e0152"
                        ],
                        [
                          0.1,
                          "#c51b7d"
                        ],
                        [
                          0.2,
                          "#de77ae"
                        ],
                        [
                          0.3,
                          "#f1b6da"
                        ],
                        [
                          0.4,
                          "#fde0ef"
                        ],
                        [
                          0.5,
                          "#f7f7f7"
                        ],
                        [
                          0.6,
                          "#e6f5d0"
                        ],
                        [
                          0.7,
                          "#b8e186"
                        ],
                        [
                          0.8,
                          "#7fbc41"
                        ],
                        [
                          0.9,
                          "#4d9221"
                        ],
                        [
                          1,
                          "#276419"
                        ]
                      ],
                      "sequential": [
                        [
                          0,
                          "#0d0887"
                        ],
                        [
                          0.1111111111111111,
                          "#46039f"
                        ],
                        [
                          0.2222222222222222,
                          "#7201a8"
                        ],
                        [
                          0.3333333333333333,
                          "#9c179e"
                        ],
                        [
                          0.4444444444444444,
                          "#bd3786"
                        ],
                        [
                          0.5555555555555556,
                          "#d8576b"
                        ],
                        [
                          0.6666666666666666,
                          "#ed7953"
                        ],
                        [
                          0.7777777777777778,
                          "#fb9f3a"
                        ],
                        [
                          0.8888888888888888,
                          "#fdca26"
                        ],
                        [
                          1,
                          "#f0f921"
                        ]
                      ],
                      "sequentialminus": [
                        [
                          0,
                          "#0d0887"
                        ],
                        [
                          0.1111111111111111,
                          "#46039f"
                        ],
                        [
                          0.2222222222222222,
                          "#7201a8"
                        ],
                        [
                          0.3333333333333333,
                          "#9c179e"
                        ],
                        [
                          0.4444444444444444,
                          "#bd3786"
                        ],
                        [
                          0.5555555555555556,
                          "#d8576b"
                        ],
                        [
                          0.6666666666666666,
                          "#ed7953"
                        ],
                        [
                          0.7777777777777778,
                          "#fb9f3a"
                        ],
                        [
                          0.8888888888888888,
                          "#fdca26"
                        ],
                        [
                          1,
                          "#f0f921"
                        ]
                      ]
                    },
                    "colorway": [
                      "#636efa",
                      "#EF553B",
                      "#00cc96",
                      "#ab63fa",
                      "#FFA15A",
                      "#19d3f3",
                      "#FF6692",
                      "#B6E880",
                      "#FF97FF",
                      "#FECB52"
                    ],
                    "font": {
                      "color": "#2a3f5f"
                    },
                    "geo": {
                      "bgcolor": "white",
                      "lakecolor": "white",
                      "landcolor": "#E5ECF6",
                      "showlakes": true,
                      "showland": true,
                      "subunitcolor": "white"
                    },
                    "hoverlabel": {
                      "align": "left"
                    },
                    "hovermode": "closest",
                    "mapbox": {
                      "style": "light"
                    },
                    "paper_bgcolor": "white",
                    "plot_bgcolor": "#E5ECF6",
                    "polar": {
                      "angularaxis": {
                        "gridcolor": "white",
                        "linecolor": "white",
                        "ticks": ""
                      },
                      "bgcolor": "#E5ECF6",
                      "radialaxis": {
                        "gridcolor": "white",
                        "linecolor": "white",
                        "ticks": ""
                      }
                    },
                    "scene": {
                      "xaxis": {
                        "backgroundcolor": "#E5ECF6",
                        "gridcolor": "white",
                        "gridwidth": 2,
                        "linecolor": "white",
                        "showbackground": true,
                        "ticks": "",
                        "zerolinecolor": "white"
                      },
                      "yaxis": {
                        "backgroundcolor": "#E5ECF6",
                        "gridcolor": "white",
                        "gridwidth": 2,
                        "linecolor": "white",
                        "showbackground": true,
                        "ticks": "",
                        "zerolinecolor": "white"
                      },
                      "zaxis": {
                        "backgroundcolor": "#E5ECF6",
                        "gridcolor": "white",
                        "gridwidth": 2,
                        "linecolor": "white",
                        "showbackground": true,
                        "ticks": "",
                        "zerolinecolor": "white"
                      }
                    },
                    "shapedefaults": {
                      "line": {
                        "color": "#2a3f5f"
                      }
                    },
                    "ternary": {
                      "aaxis": {
                        "gridcolor": "white",
                        "linecolor": "white",
                        "ticks": ""
                      },
                      "baxis": {
                        "gridcolor": "white",
                        "linecolor": "white",
                        "ticks": ""
                      },
                      "bgcolor": "#E5ECF6",
                      "caxis": {
                        "gridcolor": "white",
                        "linecolor": "white",
                        "ticks": ""
                      }
                    },
                    "title": {
                      "x": 0.05
                    },
                    "xaxis": {
                      "automargin": true,
                      "gridcolor": "white",
                      "linecolor": "white",
                      "ticks": "",
                      "title": {
                        "standoff": 15
                      },
                      "zerolinecolor": "white",
                      "zerolinewidth": 2
                    },
                    "yaxis": {
                      "automargin": true,
                      "gridcolor": "white",
                      "linecolor": "white",
                      "ticks": "",
                      "title": {
                        "standoff": 15
                      },
                      "zerolinecolor": "white",
                      "zerolinewidth": 2
                    }
                  }
                },
                "title": {
                  "text": "Descriptive Statistics: Insurance Charges"
                },
                "width": 1200,
                "xaxis": {
                  "anchor": "y",
                  "domain": [
                    0,
                    0.2888888888888889
                  ]
                },
                "xaxis2": {
                  "anchor": "y2",
                  "domain": [
                    0.35555555555555557,
                    0.6444444444444445
                  ]
                },
                "xaxis3": {
                  "anchor": "y3",
                  "domain": [
                    0.7111111111111111,
                    1
                  ]
                },
                "yaxis": {
                  "anchor": "x",
                  "domain": [
                    0,
                    1
                  ],
                  "title": {
                    "text": "Avg Charges (£)"
                  }
                },
                "yaxis2": {
                  "anchor": "x2",
                  "domain": [
                    0,
                    1
                  ],
                  "title": {
                    "text": "Avg Charges (£)"
                  }
                },
                "yaxis3": {
                  "anchor": "x3",
                  "domain": [
                    0,
                    1
                  ],
                  "title": {
                    "text": "Avg Charges (£)"
                  }
                }
              }
            }
          },
          "metadata": {},
          "output_type": "display_data"
        }
      ],
      "source": [
        "import pandas as pd\n",
        "import plotly.graph_objects as go\n",
        "from plotly.subplots import make_subplots\n",
        "\n",
        "# Load dataset (adjust path as needed)\n",
        "df_cleaned = pd.read_csv('cleaned_healthcare_insurance.csv')\n",
        "\n",
        "# Precompute averages\n",
        "avg_charges_by_age = df_cleaned.groupby('age', as_index=False)['charges'].mean()\n",
        "avg_charges_by_gender = df_cleaned.groupby('sex', as_index=False)['charges'].mean()\n",
        "avg_charges_by_region = df_cleaned.groupby('region', as_index=False)['charges'].mean()\n",
        "\n",
        "# Create subplot figure with 1 row and 3 columns\n",
        "fig = make_subplots(rows=1, cols=3, subplot_titles=[\n",
        "    \"Avg Charges by Age\",\n",
        "    \"Avg Charges by Gender\",\n",
        "    \"Avg Charges by Region\"\n",
        "])\n",
        "\n",
        "# Add line chart (age)\n",
        "fig.add_trace(\n",
        "    go.Scatter(x=avg_charges_by_age['age'], y=avg_charges_by_age['charges'],\n",
        "               mode='lines+markers', name='Age'),\n",
        "    row=1, col=1\n",
        ")\n",
        "\n",
        "# Add bar chart (gender)\n",
        "fig.add_trace(\n",
        "    go.Bar(x=avg_charges_by_gender['sex'], y=avg_charges_by_gender['charges'], name='Gender'),\n",
        "    row=1, col=2\n",
        ")\n",
        "\n",
        "# Add bar chart (region)\n",
        "fig.add_trace(\n",
        "    go.Bar(x=avg_charges_by_region['region'], y=avg_charges_by_region['charges'], name='Region'),\n",
        "    row=1, col=3\n",
        ")\n",
        "\n",
        "# Update layout\n",
        "fig.update_layout(height=400, width=1200, title_text=\"Descriptive Statistics: Insurance Charges\")\n",
        "fig.update_yaxes(title_text=\"Avg Charges (£)\", row=1, col=1)\n",
        "fig.update_yaxes(title_text=\"Avg Charges (£)\", row=1, col=2)\n",
        "fig.update_yaxes(title_text=\"Avg Charges (£)\", row=1, col=3)\n",
        "fig.show()\n"
      ]
    },
    {
      "cell_type": "markdown",
      "metadata": {},
      "source": [
        "#Correlation Analysis"
      ]
    },
    {
      "cell_type": "code",
      "execution_count": 89,
      "metadata": {},
      "outputs": [
        {
          "data": {
            "application/vnd.plotly.v1+json": {
              "config": {
                "plotlyServerURL": "https://plot.ly"
              },
              "data": [
                {
                  "coloraxis": "coloraxis",
                  "hovertemplate": "x: %{x}<br>y: %{y}<br>color: %{z}<extra></extra>",
                  "name": "0",
                  "texttemplate": "%{z}",
                  "type": "heatmap",
                  "x": [
                    "age",
                    "bmi",
                    "children",
                    "charges"
                  ],
                  "xaxis": "x",
                  "y": [
                    "age",
                    "bmi",
                    "children",
                    "charges"
                  ],
                  "yaxis": "y",
                  "z": {
                    "bdata": "AAAAAAAA8D+YRoD8efm7PyPqzh9/vqU/Hl8SP/Mi0z+YRoD8efm7PwAAAAAAAPA/oS5r/vAkij818isK62LJPyPqzh9/vqU/oS5r/vAkij8AAAAAAADwP5jpiwNVaLE/Hl8SP/Mi0z818isK62LJP5jpiwNVaLE/AAAAAAAA8D8=",
                    "dtype": "f8",
                    "shape": "4, 4"
                  }
                }
              ],
              "layout": {
                "coloraxis": {
                  "cmax": 1,
                  "cmin": -1,
                  "colorscale": [
                    [
                      0,
                      "rgb(103,0,31)"
                    ],
                    [
                      0.1,
                      "rgb(178,24,43)"
                    ],
                    [
                      0.2,
                      "rgb(214,96,77)"
                    ],
                    [
                      0.3,
                      "rgb(244,165,130)"
                    ],
                    [
                      0.4,
                      "rgb(253,219,199)"
                    ],
                    [
                      0.5,
                      "rgb(247,247,247)"
                    ],
                    [
                      0.6,
                      "rgb(209,229,240)"
                    ],
                    [
                      0.7,
                      "rgb(146,197,222)"
                    ],
                    [
                      0.8,
                      "rgb(67,147,195)"
                    ],
                    [
                      0.9,
                      "rgb(33,102,172)"
                    ],
                    [
                      1,
                      "rgb(5,48,97)"
                    ]
                  ]
                },
                "template": {
                  "data": {
                    "bar": [
                      {
                        "error_x": {
                          "color": "#2a3f5f"
                        },
                        "error_y": {
                          "color": "#2a3f5f"
                        },
                        "marker": {
                          "line": {
                            "color": "#E5ECF6",
                            "width": 0.5
                          },
                          "pattern": {
                            "fillmode": "overlay",
                            "size": 10,
                            "solidity": 0.2
                          }
                        },
                        "type": "bar"
                      }
                    ],
                    "barpolar": [
                      {
                        "marker": {
                          "line": {
                            "color": "#E5ECF6",
                            "width": 0.5
                          },
                          "pattern": {
                            "fillmode": "overlay",
                            "size": 10,
                            "solidity": 0.2
                          }
                        },
                        "type": "barpolar"
                      }
                    ],
                    "carpet": [
                      {
                        "aaxis": {
                          "endlinecolor": "#2a3f5f",
                          "gridcolor": "white",
                          "linecolor": "white",
                          "minorgridcolor": "white",
                          "startlinecolor": "#2a3f5f"
                        },
                        "baxis": {
                          "endlinecolor": "#2a3f5f",
                          "gridcolor": "white",
                          "linecolor": "white",
                          "minorgridcolor": "white",
                          "startlinecolor": "#2a3f5f"
                        },
                        "type": "carpet"
                      }
                    ],
                    "choropleth": [
                      {
                        "colorbar": {
                          "outlinewidth": 0,
                          "ticks": ""
                        },
                        "type": "choropleth"
                      }
                    ],
                    "contour": [
                      {
                        "colorbar": {
                          "outlinewidth": 0,
                          "ticks": ""
                        },
                        "colorscale": [
                          [
                            0,
                            "#0d0887"
                          ],
                          [
                            0.1111111111111111,
                            "#46039f"
                          ],
                          [
                            0.2222222222222222,
                            "#7201a8"
                          ],
                          [
                            0.3333333333333333,
                            "#9c179e"
                          ],
                          [
                            0.4444444444444444,
                            "#bd3786"
                          ],
                          [
                            0.5555555555555556,
                            "#d8576b"
                          ],
                          [
                            0.6666666666666666,
                            "#ed7953"
                          ],
                          [
                            0.7777777777777778,
                            "#fb9f3a"
                          ],
                          [
                            0.8888888888888888,
                            "#fdca26"
                          ],
                          [
                            1,
                            "#f0f921"
                          ]
                        ],
                        "type": "contour"
                      }
                    ],
                    "contourcarpet": [
                      {
                        "colorbar": {
                          "outlinewidth": 0,
                          "ticks": ""
                        },
                        "type": "contourcarpet"
                      }
                    ],
                    "heatmap": [
                      {
                        "colorbar": {
                          "outlinewidth": 0,
                          "ticks": ""
                        },
                        "colorscale": [
                          [
                            0,
                            "#0d0887"
                          ],
                          [
                            0.1111111111111111,
                            "#46039f"
                          ],
                          [
                            0.2222222222222222,
                            "#7201a8"
                          ],
                          [
                            0.3333333333333333,
                            "#9c179e"
                          ],
                          [
                            0.4444444444444444,
                            "#bd3786"
                          ],
                          [
                            0.5555555555555556,
                            "#d8576b"
                          ],
                          [
                            0.6666666666666666,
                            "#ed7953"
                          ],
                          [
                            0.7777777777777778,
                            "#fb9f3a"
                          ],
                          [
                            0.8888888888888888,
                            "#fdca26"
                          ],
                          [
                            1,
                            "#f0f921"
                          ]
                        ],
                        "type": "heatmap"
                      }
                    ],
                    "histogram": [
                      {
                        "marker": {
                          "pattern": {
                            "fillmode": "overlay",
                            "size": 10,
                            "solidity": 0.2
                          }
                        },
                        "type": "histogram"
                      }
                    ],
                    "histogram2d": [
                      {
                        "colorbar": {
                          "outlinewidth": 0,
                          "ticks": ""
                        },
                        "colorscale": [
                          [
                            0,
                            "#0d0887"
                          ],
                          [
                            0.1111111111111111,
                            "#46039f"
                          ],
                          [
                            0.2222222222222222,
                            "#7201a8"
                          ],
                          [
                            0.3333333333333333,
                            "#9c179e"
                          ],
                          [
                            0.4444444444444444,
                            "#bd3786"
                          ],
                          [
                            0.5555555555555556,
                            "#d8576b"
                          ],
                          [
                            0.6666666666666666,
                            "#ed7953"
                          ],
                          [
                            0.7777777777777778,
                            "#fb9f3a"
                          ],
                          [
                            0.8888888888888888,
                            "#fdca26"
                          ],
                          [
                            1,
                            "#f0f921"
                          ]
                        ],
                        "type": "histogram2d"
                      }
                    ],
                    "histogram2dcontour": [
                      {
                        "colorbar": {
                          "outlinewidth": 0,
                          "ticks": ""
                        },
                        "colorscale": [
                          [
                            0,
                            "#0d0887"
                          ],
                          [
                            0.1111111111111111,
                            "#46039f"
                          ],
                          [
                            0.2222222222222222,
                            "#7201a8"
                          ],
                          [
                            0.3333333333333333,
                            "#9c179e"
                          ],
                          [
                            0.4444444444444444,
                            "#bd3786"
                          ],
                          [
                            0.5555555555555556,
                            "#d8576b"
                          ],
                          [
                            0.6666666666666666,
                            "#ed7953"
                          ],
                          [
                            0.7777777777777778,
                            "#fb9f3a"
                          ],
                          [
                            0.8888888888888888,
                            "#fdca26"
                          ],
                          [
                            1,
                            "#f0f921"
                          ]
                        ],
                        "type": "histogram2dcontour"
                      }
                    ],
                    "mesh3d": [
                      {
                        "colorbar": {
                          "outlinewidth": 0,
                          "ticks": ""
                        },
                        "type": "mesh3d"
                      }
                    ],
                    "parcoords": [
                      {
                        "line": {
                          "colorbar": {
                            "outlinewidth": 0,
                            "ticks": ""
                          }
                        },
                        "type": "parcoords"
                      }
                    ],
                    "pie": [
                      {
                        "automargin": true,
                        "type": "pie"
                      }
                    ],
                    "scatter": [
                      {
                        "fillpattern": {
                          "fillmode": "overlay",
                          "size": 10,
                          "solidity": 0.2
                        },
                        "type": "scatter"
                      }
                    ],
                    "scatter3d": [
                      {
                        "line": {
                          "colorbar": {
                            "outlinewidth": 0,
                            "ticks": ""
                          }
                        },
                        "marker": {
                          "colorbar": {
                            "outlinewidth": 0,
                            "ticks": ""
                          }
                        },
                        "type": "scatter3d"
                      }
                    ],
                    "scattercarpet": [
                      {
                        "marker": {
                          "colorbar": {
                            "outlinewidth": 0,
                            "ticks": ""
                          }
                        },
                        "type": "scattercarpet"
                      }
                    ],
                    "scattergeo": [
                      {
                        "marker": {
                          "colorbar": {
                            "outlinewidth": 0,
                            "ticks": ""
                          }
                        },
                        "type": "scattergeo"
                      }
                    ],
                    "scattergl": [
                      {
                        "marker": {
                          "colorbar": {
                            "outlinewidth": 0,
                            "ticks": ""
                          }
                        },
                        "type": "scattergl"
                      }
                    ],
                    "scattermap": [
                      {
                        "marker": {
                          "colorbar": {
                            "outlinewidth": 0,
                            "ticks": ""
                          }
                        },
                        "type": "scattermap"
                      }
                    ],
                    "scattermapbox": [
                      {
                        "marker": {
                          "colorbar": {
                            "outlinewidth": 0,
                            "ticks": ""
                          }
                        },
                        "type": "scattermapbox"
                      }
                    ],
                    "scatterpolar": [
                      {
                        "marker": {
                          "colorbar": {
                            "outlinewidth": 0,
                            "ticks": ""
                          }
                        },
                        "type": "scatterpolar"
                      }
                    ],
                    "scatterpolargl": [
                      {
                        "marker": {
                          "colorbar": {
                            "outlinewidth": 0,
                            "ticks": ""
                          }
                        },
                        "type": "scatterpolargl"
                      }
                    ],
                    "scatterternary": [
                      {
                        "marker": {
                          "colorbar": {
                            "outlinewidth": 0,
                            "ticks": ""
                          }
                        },
                        "type": "scatterternary"
                      }
                    ],
                    "surface": [
                      {
                        "colorbar": {
                          "outlinewidth": 0,
                          "ticks": ""
                        },
                        "colorscale": [
                          [
                            0,
                            "#0d0887"
                          ],
                          [
                            0.1111111111111111,
                            "#46039f"
                          ],
                          [
                            0.2222222222222222,
                            "#7201a8"
                          ],
                          [
                            0.3333333333333333,
                            "#9c179e"
                          ],
                          [
                            0.4444444444444444,
                            "#bd3786"
                          ],
                          [
                            0.5555555555555556,
                            "#d8576b"
                          ],
                          [
                            0.6666666666666666,
                            "#ed7953"
                          ],
                          [
                            0.7777777777777778,
                            "#fb9f3a"
                          ],
                          [
                            0.8888888888888888,
                            "#fdca26"
                          ],
                          [
                            1,
                            "#f0f921"
                          ]
                        ],
                        "type": "surface"
                      }
                    ],
                    "table": [
                      {
                        "cells": {
                          "fill": {
                            "color": "#EBF0F8"
                          },
                          "line": {
                            "color": "white"
                          }
                        },
                        "header": {
                          "fill": {
                            "color": "#C8D4E3"
                          },
                          "line": {
                            "color": "white"
                          }
                        },
                        "type": "table"
                      }
                    ]
                  },
                  "layout": {
                    "annotationdefaults": {
                      "arrowcolor": "#2a3f5f",
                      "arrowhead": 0,
                      "arrowwidth": 1
                    },
                    "autotypenumbers": "strict",
                    "coloraxis": {
                      "colorbar": {
                        "outlinewidth": 0,
                        "ticks": ""
                      }
                    },
                    "colorscale": {
                      "diverging": [
                        [
                          0,
                          "#8e0152"
                        ],
                        [
                          0.1,
                          "#c51b7d"
                        ],
                        [
                          0.2,
                          "#de77ae"
                        ],
                        [
                          0.3,
                          "#f1b6da"
                        ],
                        [
                          0.4,
                          "#fde0ef"
                        ],
                        [
                          0.5,
                          "#f7f7f7"
                        ],
                        [
                          0.6,
                          "#e6f5d0"
                        ],
                        [
                          0.7,
                          "#b8e186"
                        ],
                        [
                          0.8,
                          "#7fbc41"
                        ],
                        [
                          0.9,
                          "#4d9221"
                        ],
                        [
                          1,
                          "#276419"
                        ]
                      ],
                      "sequential": [
                        [
                          0,
                          "#0d0887"
                        ],
                        [
                          0.1111111111111111,
                          "#46039f"
                        ],
                        [
                          0.2222222222222222,
                          "#7201a8"
                        ],
                        [
                          0.3333333333333333,
                          "#9c179e"
                        ],
                        [
                          0.4444444444444444,
                          "#bd3786"
                        ],
                        [
                          0.5555555555555556,
                          "#d8576b"
                        ],
                        [
                          0.6666666666666666,
                          "#ed7953"
                        ],
                        [
                          0.7777777777777778,
                          "#fb9f3a"
                        ],
                        [
                          0.8888888888888888,
                          "#fdca26"
                        ],
                        [
                          1,
                          "#f0f921"
                        ]
                      ],
                      "sequentialminus": [
                        [
                          0,
                          "#0d0887"
                        ],
                        [
                          0.1111111111111111,
                          "#46039f"
                        ],
                        [
                          0.2222222222222222,
                          "#7201a8"
                        ],
                        [
                          0.3333333333333333,
                          "#9c179e"
                        ],
                        [
                          0.4444444444444444,
                          "#bd3786"
                        ],
                        [
                          0.5555555555555556,
                          "#d8576b"
                        ],
                        [
                          0.6666666666666666,
                          "#ed7953"
                        ],
                        [
                          0.7777777777777778,
                          "#fb9f3a"
                        ],
                        [
                          0.8888888888888888,
                          "#fdca26"
                        ],
                        [
                          1,
                          "#f0f921"
                        ]
                      ]
                    },
                    "colorway": [
                      "#636efa",
                      "#EF553B",
                      "#00cc96",
                      "#ab63fa",
                      "#FFA15A",
                      "#19d3f3",
                      "#FF6692",
                      "#B6E880",
                      "#FF97FF",
                      "#FECB52"
                    ],
                    "font": {
                      "color": "#2a3f5f"
                    },
                    "geo": {
                      "bgcolor": "white",
                      "lakecolor": "white",
                      "landcolor": "#E5ECF6",
                      "showlakes": true,
                      "showland": true,
                      "subunitcolor": "white"
                    },
                    "hoverlabel": {
                      "align": "left"
                    },
                    "hovermode": "closest",
                    "mapbox": {
                      "style": "light"
                    },
                    "paper_bgcolor": "white",
                    "plot_bgcolor": "#E5ECF6",
                    "polar": {
                      "angularaxis": {
                        "gridcolor": "white",
                        "linecolor": "white",
                        "ticks": ""
                      },
                      "bgcolor": "#E5ECF6",
                      "radialaxis": {
                        "gridcolor": "white",
                        "linecolor": "white",
                        "ticks": ""
                      }
                    },
                    "scene": {
                      "xaxis": {
                        "backgroundcolor": "#E5ECF6",
                        "gridcolor": "white",
                        "gridwidth": 2,
                        "linecolor": "white",
                        "showbackground": true,
                        "ticks": "",
                        "zerolinecolor": "white"
                      },
                      "yaxis": {
                        "backgroundcolor": "#E5ECF6",
                        "gridcolor": "white",
                        "gridwidth": 2,
                        "linecolor": "white",
                        "showbackground": true,
                        "ticks": "",
                        "zerolinecolor": "white"
                      },
                      "zaxis": {
                        "backgroundcolor": "#E5ECF6",
                        "gridcolor": "white",
                        "gridwidth": 2,
                        "linecolor": "white",
                        "showbackground": true,
                        "ticks": "",
                        "zerolinecolor": "white"
                      }
                    },
                    "shapedefaults": {
                      "line": {
                        "color": "#2a3f5f"
                      }
                    },
                    "ternary": {
                      "aaxis": {
                        "gridcolor": "white",
                        "linecolor": "white",
                        "ticks": ""
                      },
                      "baxis": {
                        "gridcolor": "white",
                        "linecolor": "white",
                        "ticks": ""
                      },
                      "bgcolor": "#E5ECF6",
                      "caxis": {
                        "gridcolor": "white",
                        "linecolor": "white",
                        "ticks": ""
                      }
                    },
                    "title": {
                      "x": 0.05
                    },
                    "xaxis": {
                      "automargin": true,
                      "gridcolor": "white",
                      "linecolor": "white",
                      "ticks": "",
                      "title": {
                        "standoff": 15
                      },
                      "zerolinecolor": "white",
                      "zerolinewidth": 2
                    },
                    "yaxis": {
                      "automargin": true,
                      "gridcolor": "white",
                      "linecolor": "white",
                      "ticks": "",
                      "title": {
                        "standoff": 15
                      },
                      "zerolinecolor": "white",
                      "zerolinewidth": 2
                    }
                  }
                },
                "title": {
                  "text": "Correlation Heatmap of Features (Including Charges)"
                },
                "xaxis": {
                  "anchor": "y",
                  "constrain": "domain",
                  "domain": [
                    0,
                    1
                  ],
                  "scaleanchor": "y"
                },
                "yaxis": {
                  "anchor": "x",
                  "autorange": "reversed",
                  "constrain": "domain",
                  "domain": [
                    0,
                    1
                  ]
                }
              }
            }
          },
          "metadata": {},
          "output_type": "display_data"
        }
      ],
      "source": [
        "corr_matrix = df_cleaned.corr(numeric_only=True)\n",
        "fig = px.imshow(corr_matrix, text_auto=True,\n",
        "                title='Correlation Heatmap of Features (Including Charges)',\n",
        "                color_continuous_scale='RdBu', zmin=-1, zmax=1)\n",
        "fig.show()\n"
      ]
    },
    {
      "cell_type": "markdown",
      "metadata": {},
      "source": [
        "#Grouped Predictive Analysis Chart"
      ]
    },
    {
      "cell_type": "code",
      "execution_count": 90,
      "metadata": {},
      "outputs": [
        {
          "data": {
            "text/html": [
              "<div>\n",
              "<style scoped>\n",
              "    .dataframe tbody tr th:only-of-type {\n",
              "        vertical-align: middle;\n",
              "    }\n",
              "\n",
              "    .dataframe tbody tr th {\n",
              "        vertical-align: top;\n",
              "    }\n",
              "\n",
              "    .dataframe thead th {\n",
              "        text-align: right;\n",
              "    }\n",
              "</style>\n",
              "<table border=\"1\" class=\"dataframe\">\n",
              "  <thead>\n",
              "    <tr style=\"text-align: right;\">\n",
              "      <th></th>\n",
              "      <th>age</th>\n",
              "      <th>sex</th>\n",
              "      <th>bmi</th>\n",
              "      <th>children</th>\n",
              "      <th>smoker</th>\n",
              "      <th>region</th>\n",
              "      <th>charges</th>\n",
              "      <th>bmi_ctg</th>\n",
              "    </tr>\n",
              "  </thead>\n",
              "  <tbody>\n",
              "    <tr>\n",
              "      <th>0</th>\n",
              "      <td>19</td>\n",
              "      <td>female</td>\n",
              "      <td>27.90</td>\n",
              "      <td>0</td>\n",
              "      <td>yes</td>\n",
              "      <td>southwest</td>\n",
              "      <td>16884.92</td>\n",
              "      <td>Overweight</td>\n",
              "    </tr>\n",
              "    <tr>\n",
              "      <th>1</th>\n",
              "      <td>18</td>\n",
              "      <td>male</td>\n",
              "      <td>33.77</td>\n",
              "      <td>1</td>\n",
              "      <td>no</td>\n",
              "      <td>southeast</td>\n",
              "      <td>1725.55</td>\n",
              "      <td>Obesity</td>\n",
              "    </tr>\n",
              "    <tr>\n",
              "      <th>2</th>\n",
              "      <td>28</td>\n",
              "      <td>male</td>\n",
              "      <td>33.00</td>\n",
              "      <td>3</td>\n",
              "      <td>no</td>\n",
              "      <td>southeast</td>\n",
              "      <td>4449.46</td>\n",
              "      <td>Obesity</td>\n",
              "    </tr>\n",
              "    <tr>\n",
              "      <th>3</th>\n",
              "      <td>33</td>\n",
              "      <td>male</td>\n",
              "      <td>22.70</td>\n",
              "      <td>0</td>\n",
              "      <td>no</td>\n",
              "      <td>northwest</td>\n",
              "      <td>21984.47</td>\n",
              "      <td>Healthy range</td>\n",
              "    </tr>\n",
              "    <tr>\n",
              "      <th>4</th>\n",
              "      <td>32</td>\n",
              "      <td>male</td>\n",
              "      <td>28.88</td>\n",
              "      <td>0</td>\n",
              "      <td>no</td>\n",
              "      <td>northwest</td>\n",
              "      <td>3866.86</td>\n",
              "      <td>Overweight</td>\n",
              "    </tr>\n",
              "    <tr>\n",
              "      <th>5</th>\n",
              "      <td>31</td>\n",
              "      <td>female</td>\n",
              "      <td>25.74</td>\n",
              "      <td>0</td>\n",
              "      <td>no</td>\n",
              "      <td>southeast</td>\n",
              "      <td>3756.62</td>\n",
              "      <td>Overweight</td>\n",
              "    </tr>\n",
              "    <tr>\n",
              "      <th>6</th>\n",
              "      <td>46</td>\n",
              "      <td>female</td>\n",
              "      <td>33.44</td>\n",
              "      <td>1</td>\n",
              "      <td>no</td>\n",
              "      <td>southeast</td>\n",
              "      <td>8240.59</td>\n",
              "      <td>Obesity</td>\n",
              "    </tr>\n",
              "    <tr>\n",
              "      <th>7</th>\n",
              "      <td>37</td>\n",
              "      <td>female</td>\n",
              "      <td>27.74</td>\n",
              "      <td>3</td>\n",
              "      <td>no</td>\n",
              "      <td>northwest</td>\n",
              "      <td>7281.51</td>\n",
              "      <td>Overweight</td>\n",
              "    </tr>\n",
              "    <tr>\n",
              "      <th>8</th>\n",
              "      <td>37</td>\n",
              "      <td>male</td>\n",
              "      <td>29.83</td>\n",
              "      <td>2</td>\n",
              "      <td>no</td>\n",
              "      <td>northeast</td>\n",
              "      <td>6406.41</td>\n",
              "      <td>Overweight</td>\n",
              "    </tr>\n",
              "    <tr>\n",
              "      <th>9</th>\n",
              "      <td>60</td>\n",
              "      <td>female</td>\n",
              "      <td>25.84</td>\n",
              "      <td>0</td>\n",
              "      <td>no</td>\n",
              "      <td>northwest</td>\n",
              "      <td>28923.14</td>\n",
              "      <td>Overweight</td>\n",
              "    </tr>\n",
              "  </tbody>\n",
              "</table>\n",
              "</div>"
            ],
            "text/plain": [
              "   age     sex    bmi  children smoker     region   charges        bmi_ctg\n",
              "0   19  female  27.90         0    yes  southwest  16884.92     Overweight\n",
              "1   18    male  33.77         1     no  southeast   1725.55        Obesity\n",
              "2   28    male  33.00         3     no  southeast   4449.46        Obesity\n",
              "3   33    male  22.70         0     no  northwest  21984.47  Healthy range\n",
              "4   32    male  28.88         0     no  northwest   3866.86     Overweight\n",
              "5   31  female  25.74         0     no  southeast   3756.62     Overweight\n",
              "6   46  female  33.44         1     no  southeast   8240.59        Obesity\n",
              "7   37  female  27.74         3     no  northwest   7281.51     Overweight\n",
              "8   37    male  29.83         2     no  northeast   6406.41     Overweight\n",
              "9   60  female  25.84         0     no  northwest  28923.14     Overweight"
            ]
          },
          "execution_count": 90,
          "metadata": {},
          "output_type": "execute_result"
        }
      ],
      "source": [
        "df_cleaned = pd.read_csv('cleaned_healthcare_insurance.csv')\n",
        "df_cleaned.head(10)"
      ]
    },
    {
      "cell_type": "code",
      "execution_count": 91,
      "metadata": {},
      "outputs": [
        {
          "name": "stdout",
          "output_type": "stream",
          "text": [
            "Requirement already satisfied: statsmodels in c:\\users\\lilia\\documents\\lp\\data ai\\hackathons\\h1_healtinsurance\\h1_healthinsurance\\.venv\\lib\\site-packages (0.14.4)\n",
            "Requirement already satisfied: numpy<3,>=1.22.3 in c:\\users\\lilia\\documents\\lp\\data ai\\hackathons\\h1_healtinsurance\\h1_healthinsurance\\.venv\\lib\\site-packages (from statsmodels) (2.2.5)\n",
            "Requirement already satisfied: scipy!=1.9.2,>=1.8 in c:\\users\\lilia\\documents\\lp\\data ai\\hackathons\\h1_healtinsurance\\h1_healthinsurance\\.venv\\lib\\site-packages (from statsmodels) (1.15.3)\n",
            "Requirement already satisfied: pandas!=2.1.0,>=1.4 in c:\\users\\lilia\\documents\\lp\\data ai\\hackathons\\h1_healtinsurance\\h1_healthinsurance\\.venv\\lib\\site-packages (from statsmodels) (2.2.3)\n",
            "Requirement already satisfied: patsy>=0.5.6 in c:\\users\\lilia\\documents\\lp\\data ai\\hackathons\\h1_healtinsurance\\h1_healthinsurance\\.venv\\lib\\site-packages (from statsmodels) (1.0.1)\n",
            "Requirement already satisfied: packaging>=21.3 in c:\\users\\lilia\\documents\\lp\\data ai\\hackathons\\h1_healtinsurance\\h1_healthinsurance\\.venv\\lib\\site-packages (from statsmodels) (25.0)\n",
            "Requirement already satisfied: python-dateutil>=2.8.2 in c:\\users\\lilia\\documents\\lp\\data ai\\hackathons\\h1_healtinsurance\\h1_healthinsurance\\.venv\\lib\\site-packages (from pandas!=2.1.0,>=1.4->statsmodels) (2.9.0.post0)\n",
            "Requirement already satisfied: pytz>=2020.1 in c:\\users\\lilia\\documents\\lp\\data ai\\hackathons\\h1_healtinsurance\\h1_healthinsurance\\.venv\\lib\\site-packages (from pandas!=2.1.0,>=1.4->statsmodels) (2025.2)\n",
            "Requirement already satisfied: tzdata>=2022.7 in c:\\users\\lilia\\documents\\lp\\data ai\\hackathons\\h1_healtinsurance\\h1_healthinsurance\\.venv\\lib\\site-packages (from pandas!=2.1.0,>=1.4->statsmodels) (2025.2)\n",
            "Requirement already satisfied: six>=1.5 in c:\\users\\lilia\\documents\\lp\\data ai\\hackathons\\h1_healtinsurance\\h1_healthinsurance\\.venv\\lib\\site-packages (from python-dateutil>=2.8.2->pandas!=2.1.0,>=1.4->statsmodels) (1.17.0)\n",
            "Note: you may need to restart the kernel to use updated packages.\n"
          ]
        },
        {
          "data": {
            "application/vnd.plotly.v1+json": {
              "config": {
                "plotlyServerURL": "https://plot.ly"
              },
              "data": [
                {
                  "hovertemplate": "smoker=yes<br>age=%{x}<br>charges=%{y}<extra></extra>",
                  "legendgroup": "yes",
                  "marker": {
                    "color": "#636efa",
                    "symbol": "circle"
                  },
                  "mode": "markers",
                  "name": "yes",
                  "showlegend": true,
                  "type": "scattergl",
                  "x": {
                    "bdata": "Ez4bHiIfFhwjPCQwJDoSNRQcGxYlLTk7QDgmPRQ/HSwTICIeLiowEh4qEj8kGyMTKigTFz8SPzYyOBMUNBMuKDIoNjsZEy8fNSsbIi1APTQyExoXJxgbNywaJD9APSghOCoeNj0YLBUdMxMnKjk2MSsjMB8iFRM7Hi8xEyUSLCcqNEArKD4sPCcbKTMeHSMlFx0bNSUvEiETHjI1GyESLyE4JCkXOTwlLjEwGSUzIDlALys8IBIrLSUZMywiNiszHR8YGx4YLysWLxMuNxIWLSMUKxYxLzslHCcvFjMhJjAZIRc1FxM8KxMSKzQfFxQrExIkJS4UNBQ0QCAYFEAYGicvEj0UEy0+KyodIBkTHj4qPQ==",
                    "dtype": "i1"
                  },
                  "xaxis": "x",
                  "y": {
                    "bdata": "FK5H4Tp90ECF61G4LijbQB+F61F4V+NApHA9Cq/84UCPwvUovGjiQAAAAADg5uJA9ihcjzJg4UC4HoXrUf/oQFyPwvXIa+NAUrgehauF50ApXI/CpebiQHsUrkcRBNdA9ihcj9Jt4kDhehSuDzHnQArXo3Dlv+BA9ihcjzKz1kCF61G43rvMQFyPwvXIP9FAuB6F63Ew0EDsUbgepSXiQD0K16OQc+NAMzMzM6Oa1EBI4XoUXkflQI/C9Sg8et1AuB6F62EX50CamZmZKePVQJqZmZlZ5s5Aj8L1KIw33kAfhetRGCbRQFyPwvXw+eZAuB6F6/Go0kDhehSuj1DjQOxRuB5FrtBAj8L1KIz330AAAAAAIIfSQMP1KFx/QtRAmpmZmRHi40AAAAAAMH/TQFK4HoXrudRApHA9ChdPzkAfhetRyAriQArXo3At2dRAw/UoXK+m4UBmZmZmDtfnQBSuR+EqXeVAzczMzLwh4kApXI/CBX7UQHE9Ctdz++BA9ihcj+IO00B7FK5HEf3SQFK4HoUr8tBAj8L1KPTN4kAUrkfhytTcQBSuR+G6DslAmpmZmSkZ50AAAAAAmJzlQOxRuB4lEeRAKVyPwiVy5UB7FK5HyXrgQHsUrkdRr9BAKVyPwnVJ2EDsUbgeba/hQHE9CtfjiOZAexSuR+HG0EAUrkfhGu3kQK5H4XrkztVAKVyPwqW050B7FK5HGWPnQOF6FK4HkORAzczMzOzUz0BSuB6Fq3bVQFK4HoVL6+JAH4XrUVhK2EA9CtejkJHkQHE9CtfbAuFArkfhenRU4UAAAAAAEOHkQFyPwvUAZ+dAuB6F67Gw50DhehSuZ9LXQDMzMzPjd+RAexSuR0EKy0CkcD0Kp57hQEjhehR+nNFAUrgehfsm1UAAAAAAyJ3iQNejcD1KT81ASOF6FPan5EBxPQrXsyLTQLgehevRO8xAPQrXoxAs0kBI4XoUnkXcQB+F61Eo5eZAUrgehePA5kD2KFyPqhrjQHE9CtfrGuJA7FG4HlV/2UC4HoXrAaDVQEjhehR+ENNAMzMzM5PJ2EDXo3A9KjHcQFyPwvVwKeFArkfheqTe50CkcD0Kh4XRQGZmZma2rOFApHA9Coey1UApXI/CFcnfQNejcD2KltRAFK5H4bKs4kA9CtejcMTnQClcj8JNI+9Aw/UoXM8/10BmZmZm5mTmQClcj8LtheNAPQrXo8BQ5kDXo3A9YpnsQI/C9Sj8dOVAzczMzIz/zUCF61G4Pg/RQLgeheuxE9lASOF6FC4p40AzMzMzO/vkQDMzMzOjwtZAUrgehfvQ4EAAAAAAyJ7jQBSuR+E65+BAhetRuO785ECuR+F6VK3TQIXrUbhuAuBAFK5H4doW2EDXo3A9emfaQClcj8INyORA9ihcj2qI40CF61G4xlHmQOF6FK4fj+ZAXI/C9VCG5kCuR+F6/JTjQKRwPQrP/uBAzczMzDSq40DsUbgeDa7lQClcj8KN/ONASOF6FG5E0EAAAAAAgOjSQD0K16NgvONAMzMzM6Or4UCF61G4LsXlQAAAAACg0dFACtejcM0e5UDD9ShczxTTQBSuR+FahtZAmpmZmXm64UAfhetROJjSQD0K16MgVdFASOF6FM7U0UA9CtejEPLXQK5H4Xr0stRAw/UoXK/h0UC4HoXrIXzRQEjhehQW8eJAcT0K11Pa1kDNzMzM7OvqQHE9Cte7ZOVAH4XrUWhJ1EDsUbgerVXjQB+F61GgluFA16NwPXrj2kCF61G4HvrlQM3MzMzEMuJA7FG4HvWP5EDXo3A9uorXQOxRuB7FAeRAhetRuP7kzkAfhetRMITmQFK4HoXjleZAj8L1KOxB00CPwvUonJTaQIXrUbi+pNxAzczMzFSV5UAzMzMzg1XTQLgehesxxOdAcT0K1xMW0UBI4XoUlnjgQK5H4XqUQ9VAcT0K16sf4UB7FK5H6RDjQArXo3Bdd9NArkfhetws50CamZmZ0QrjQB+F61FoitNAPQrXo/CB5ECkcD0KRwnkQB+F61HYZ9dAexSuR2GFz0CPwvUo/L/SQLgehevxdcxAw/UoXB8J0EB7FK5HcfTQQBSuR+Ea1eBASOF6FM5U2EDD9Shc71PSQBSuR+FyYeFArkfhemSc5EBcj8L1uBDQQLgehetRK9VAmpmZmfmw5UDD9Shc79nKQGZmZmaOTeJAPQrXo7Bl40BmZmZmtsLTQNejcD16WOBArkfhejRe1UDNzMzMrLrlQFK4HoXzZeNAw/UoXF+32EAAAAAASOnnQGZmZmb2d+NAzczMzATu4EA9Ctej0JPSQPYoXI+CWeRAmpmZmXGO4EBmZmZmJszlQDMzMzMTYtBA4XoUrqd75EBSuB6FO53XQNejcD2So+FAAAAAAFix4kA9CtejyK7gQEjhehSuyOZAZmZmZgb540DD9ShcVwTiQPYoXI/arelAexSuR6n940AAAAAAWGXjQFK4HoWrxtBAZmZmZqbz1UDXo3A96lPXQOF6FK6X5dJAw/UoXA/m0UAUrkfhKkviQClcj8LVQtVAmpmZmXFD4EDNzMzM3MvRQKRwPQrvweJApHA9CjfS00AzMzMzs1fkQBSuR+Fqg9lAzczMzKxO7UApXI/C1bHTQDMzMzO7FOdA7FG4HjU16EBcj8L18FziQBSuR+EaNtJAzczMzGy0z0A9CtejoEvaQJqZmZnBueBAKVyPwtWk0ED2KFyPgu/VQM3MzMzs9ddAFK5H4brly0CPwvUofCXnQNejcD0SueJAzczMzJQB4UBxPQrXG5DuQOxRuB7Fz+ZApHA9Crd44kAfhetR2MLUQGZmZmamec9AhetRuB741EDNzMzMlI3gQPYoXI+yxeFAH4XrUXhT0kDsUbgeVXHbQI/C9SgMb+VApHA9Cld13EA=",
                    "dtype": "f8"
                  },
                  "yaxis": "y"
                },
                {
                  "hovertemplate": "<b>OLS trendline</b><br>charges = 305.238 * age + 20294.1<br>R<sup>2</sup>=0.135589<br><br>smoker=yes<br>age=%{x}<br>charges=%{y} <b>(trend)</b><extra></extra>",
                  "legendgroup": "yes",
                  "marker": {
                    "color": "#636efa",
                    "symbol": "circle"
                  },
                  "mode": "lines",
                  "name": "yes",
                  "showlegend": false,
                  "type": "scattergl",
                  "x": {
                    "bdata": "EhISEhISEhISEhISExMTExMTExMTExMTExMTExMTFBQUFBQUFBQUFRUWFhYWFhYXFxcXFxcXGBgYGBgYGRkZGRkaGhobGxsbGxsbGxscHBwdHR0dHR0eHh4eHh4eHh4fHx8fHyAgICAgISEhISEhIiIiIiIjIyMjIyQkJCQkJCUlJSUlJSUlJSYmJycnJycnKCgoKCgpKSoqKioqKioqKysrKysrKysrKysrLCwsLCwsLS0tLS0uLi4uLi8vLy8vLy8vLy8wMDAwMDExMTEyMjIyMzMzMzMzNDQ0NDQ0NTU1NTU2NjY2Njc3ODg4ODk5OTk6Ozs7Ozw8PDw8PT09PT09Pj4+Pj8/Pz8/QEBAQEBAQA==",
                    "dtype": "i1"
                  },
                  "xaxis": "x",
                  "y": {
                    "bdata": "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",
                    "dtype": "f8"
                  },
                  "yaxis": "y"
                },
                {
                  "hovertemplate": "smoker=no<br>age=%{x}<br>charges=%{y}<extra></extra>",
                  "legendgroup": "no",
                  "marker": {
                    "color": "#EF553B",
                    "symbol": "circle"
                  },
                  "mode": "markers",
                  "name": "no",
                  "showlegend": true,
                  "type": "scattergl",
                  "x": {
                    "bdata": "EhwhIB8uJSU8GRc4EzQXODweEiU7PzcXEhM/Ez4aGB8pJSY3Ehw8EhUoOiIrGUAcEz0oKB81Oiw5HRUWKR8tMDguNxU1Ixw2NykeEiITGh02NyUVNDw6MSUsEhQvGjQmOz01ExQWExY2FiIaHR0zNRMjMCAoLDI2ICUvFCATGz8xEiMYJjYuKToSFiwsGh4pHT0kGTgSEyctM0ATMDwuHDs/KBQoGCItKTUbGhgiNSA3HDopLyo7EzsnEh8sITcoNjwYEx0bNyYzOjU7LTESKTIZLxMWOzMeNzQuLj80HB0WGRIwJDgcOR0cHjopMhMxNDI2LCAiGjkdKBs0PTgrQDw+Lhg+PD8xIiEuJBM5Mh4hEi4uLxcSMCMVFTE4KiwSPTkqFEA+NyMsEzoyGhgwEzAxLi4rFUASMy9AMR80IS8mIBMZEys0QBkwLSYSFRsTHSo8HzwWIzQaHxI7LTw4KCMnHhgUIDs3OTgoMT44Ezw4HBIbEhMvGRUXPzESMzAfNhM1Ez0SPRQfLSw+KyYlFhUYOTgbMxM6FC0jHzIgMyYSEzMuEj47JUAmIS4uNSIUPzYcNhk/ID40GRwuIhMuNhsyEhMmKTEfEh4+OToWNBk7EycgEyEVPSY6LxQpLioiKzQSMzhAMxscLyYSIhQ4Nx4xOx0kITo1GB0oM0ATIzghPRcrMCcoEjoxNTAtOxobMDklOSASMSgeHSQpLTc4MRUTNSE1KigvFS8UGBsaNTgXFTI1Ii8hMR8kEjIrFBg8MTwzOjM1PhMyKRIpNRgwOzEaLR8yMiITLxwVQDoYHyceFhcbLTkvKkAmPTUsKTMoLSM1EjMfIzwVHT4nExYnHh46KkAVFy0oExIZLiE2HCQUGBctGhIsPEAnPyQcOiQqJDgjOxU7NTMXGzc9NRQZOSY3JDMoEjk9GTIaKissFzEhKSUWFxUZJBY5JDY+PRMSEzEaMTwaGyw/FjssIRg9Iz4+JiIrMhM5PikaJy4tIDssJxI1EjISEz44Kio5Hh8YMBMdPy40IywVJzIiFhMaMBotJDYiGxQsKy0iGiYyJicnPyEkGDAvHRwZMzA9MCY7Exo2FTMSLxUXNiUePTYWExIcNysZLEAxGzcwLRggGDkkHSowJz82PxU2PCAvFT8SICYgPjc5NDg3FzISFjQZNR06JTYxMhotNhwXNykeLhs/NyMiEycbOTQcMiwaITIpNCcyNBQ3KhI6IzAkFxQgKyIeEikjOR0gJTgmHRYoFyoYGTAtPhcfKTowHxMpKB8lLhYzIzs7JCcSNBsSKB0mHigyKSEmKjg6NjotGj86JRkWHBIcLSESEygiKjM2NzQgHCkrMTcULRoZKyM5FiAZMBIvHCQsJhUuOhQSHCETGRgpKiEiEhMSIycfPh89KjMXNDkXNDISEhU=",
                    "dtype": "i1"
                  },
                  "xaxis": "x",
                  "y": {
                    "bdata": "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",
                    "dtype": "f8"
                  },
                  "yaxis": "y"
                },
                {
                  "hovertemplate": "<b>OLS trendline</b><br>charges = 267.249 * age + -2091.42<br>R<sup>2</sup>=0.394317<br><br>smoker=no<br>age=%{x}<br>charges=%{y} <b>(trend)</b><extra></extra>",
                  "legendgroup": "no",
                  "marker": {
                    "color": "#EF553B",
                    "symbol": "circle"
                  },
                  "mode": "lines",
                  "name": "no",
                  "showlegend": false,
                  "type": "scattergl",
                  "x": {
                    "bdata": "EhISEhISEhISEhISEhISEhISEhISEhISEhISEhISEhISEhISEhISEhISEhISEhISEhISEhISEhISExMTExMTExMTExMTExMTExMTExMTExMTExMTExMTExMTExMTExMTExMTExMTExMTExMUFBQUFBQUFBQUFBQUFBQUFBQUFBUVFRUVFRUVFRUVFRUVFRUVFRUVFRUVFRUVFhYWFhYWFhYWFhYWFhYWFhYWFhYWFhcXFxcXFxcXFxcXFxcXFxcXFxcXFxgYGBgYGBgYGBgYGBgYGBgYGBgYGBgZGRkZGRkZGRkZGRkZGRkZGRkZGRkZGRoaGhoaGhoaGhoaGhoaGhoaGhoaGhoaGhobGxsbGxsbGxsbGxsbGxsbGxsbHBwcHBwcHBwcHBwcHBwcHBwcHBwcHBwcHB0dHR0dHR0dHR0dHR0dHR0dHR0dHR4eHh4eHh4eHh4eHh4eHh4eHh8fHx8fHx8fHx8fHx8fHx8fHx8fHx8gICAgICAgICAgICAgICAgICAgICAhISEhISEhISEhISEhISEhISEhISIiIiIiIiIiIiIiIiIiIiIiIiIiIiMjIyMjIyMjIyMjIyMjIyMjIyMjJCQkJCQkJCQkJCQkJCQkJCQkJCUlJSUlJSUlJSUlJSUlJSUmJiYmJiYmJiYmJiYmJiYmJiYmJiYmJicnJycnJycnJycnJycnJycnJycoKCgoKCgoKCgoKCgoKCgoKCgoKCgoKSkpKSkpKSkpKSkpKSkpKSkpKSkpKSkpKSoqKioqKioqKioqKioqKioqKiorKysrKysrKysrKysrKyssLCwsLCwsLCwsLCwsLCwsLCwsLCwtLS0tLS0tLS0tLS0tLS0tLS0tLS0tLS0uLi4uLi4uLi4uLi4uLi4uLi4uLi4uLi4vLy8vLy8vLy8vLy8vLy8vLy8vMDAwMDAwMDAwMDAwMDAwMDAwMDAwMDAwMTExMTExMTExMTExMTExMTExMTExMTExMjIyMjIyMjIyMjIyMjIyMjIyMjIyMjIyMjMzMzMzMzMzMzMzMzMzMzMzMzMzMzMzNDQ0NDQ0NDQ0NDQ0NDQ0NDQ0NDQ0NDQ1NTU1NTU1NTU1NTU1NTU1NTU1NTU1NTY2NjY2NjY2NjY2NjY2NjY2NjY2NjY2Nzc3Nzc3Nzc3Nzc3Nzc3Nzc3Nzc3Nzc3ODg4ODg4ODg4ODg4ODg4ODg4ODg4ODk5OTk5OTk5OTk5OTk5OTk5OTk5OTk6Ojo6Ojo6Ojo6Ojo6Ojo6Ojo6Ojo6Ojo7Ozs7Ozs7Ozs7Ozs7Ozs7Ozs7Ozs8PDw8PDw8PDw8PDw8PDw8PDw9PT09PT09PT09PT09PT09PT4+Pj4+Pj4+Pj4+Pj4+Pj4+Pj4/Pz8/Pz8/Pz8/Pz8/Pz8/Pz9AQEBAQEBAQEBAQEBAQEA=",
                    "dtype": "i1"
                  },
                  "xaxis": "x",
                  "y": {
                    "bdata": "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",
                    "dtype": "f8"
                  },
                  "yaxis": "y"
                },
                {
                  "hovertemplate": "sex=female<br>bmi=%{x}<br>charges=%{y}<extra></extra>",
                  "legendgroup": "female",
                  "marker": {
                    "color": "#636efa",
                    "symbol": "circle"
                  },
                  "mode": "markers",
                  "name": "female",
                  "showlegend": true,
                  "type": "scattergl",
                  "x": {
                    "bdata": "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",
                    "dtype": "f8"
                  },
                  "xaxis": "x2",
                  "y": {
                    "bdata": "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",
                    "dtype": "f8"
                  },
                  "yaxis": "y2"
                },
                {
                  "hovertemplate": "<b>OLS trendline</b><br>charges = 297.117 * bmi + 3543.78<br>R<sup>2</sup>=0.026054<br><br>sex=female<br>bmi=%{x}<br>charges=%{y} <b>(trend)</b><extra></extra>",
                  "legendgroup": "female",
                  "marker": {
                    "color": "#636efa",
                    "symbol": "circle"
                  },
                  "mode": "lines",
                  "name": "female",
                  "showlegend": false,
                  "type": "scattergl",
                  "x": {
                    "bdata": "UrgehevRMEAzMzMzMzMxQArXo3A9SjFACtejcD1KMUBmZmZmZmYxQMP1KFyPwjFAzczMzMzMMUAzMzMzM/MxQM3MzMzMDDJAzczMzMxMMkDXo3A9ClcyQNejcD0KVzJAAAAAAACAMkCamZmZmZkyQAAAAAAAADNAmpmZmZkZM0B7FK5H4XozQM3MzMzMzDNAXI/C9SjcM0AzMzMzM/MzQDMzMzMz8zNAMzMzMzPzM0DNzMzMzAw0QM3MzMzMDDRAmpmZmZkZNEA9CtejcD00QD0K16NwPTRAPQrXo3A9NECF61G4HoU0QIXrUbgehTRAmpmZmZmZNECamZmZmZk0QArXo3A9yjRAzczMzMzMNEDXo3A9Chc1QEjhehSuRzVAzczMzMxMNUC4HoXrUXg1QLgehetReDVAj8L1KFyPNUApXI/C9ag1QClcj8L1qDVAMzMzMzOzNUDD9Shcj8I1QMP1KFyPwjVAw/UoXI/CNUDNzMzMzMw1QJqZmZmZ2TVAmpmZmZnZNUCkcD0K1+M1QHE9Ctej8DVACtejcD0KNkCkcD0K1yM2QKRwPQrXIzZApHA9CtcjNkC4HoXrUTg2QHsUrkfhOjZAexSuR+E6NkDsUbgehWs2QIXrUbgehTZAhetRuB6FNkCamZmZmZk2QJqZmZmZmTZAXI/C9SicNkBcj8L1KJw2QFyPwvUonDZAhetRuB7FNkDNzMzMzMw2QM3MzMzMzDZA4XoUrkfhNkBmZmZmZuY2QD0K16Nw/TZAAAAAAAAAN0AUrkfhehQ3QK5H4XoULjdArkfhehQuN0CuR+F6FC43QK5H4XoULjdArkfhehQuN0D2KFyPwjU3QPYoXI/CNTdASOF6FK5HN0AfhetRuF43QB+F61G4XjdAH4XrUbheN0BmZmZmZmY3QPYoXI/CdTdA9ihcj8J1N0AK16NwPYo3QI/C9ShcjzdAmpmZmZmZN0CamZmZmZk3QGZmZmZmpjdAKVyPwvWoN0ApXI/C9ag3QClcj8L1qDdAAAAAAADAN0DXo3A9Ctc3QNejcD0K1zdAH4XrUbjeN0B7FK5H4fo3QHsUrkfh+jdACtejcD0KOEDXo3A9Chc4QJqZmZmZGThAmpmZmZkZOEDhehSuRyE4QLgehetRODhAuB6F61E4OEC4HoXrUTg4QM3MzMzMTDhAzczMzMxMOECPwvUoXE84QFK4HoXrUThAUrgehetROEDsUbgehWs4QMP1KFyPgjhASOF6FK6HOECamZmZmZk4QJqZmZmZmThAmpmZmZmZOECamZmZmZk4QDMzMzMzszhAMzMzMzOzOEAAAAAAAMA4QM3MzMzMzDhAXI/C9SjcOECkcD0K1+M4QHsUrkfh+jhAAAAAAAAAOUAAAAAAAAA5QBSuR+F6FDlAFK5H4XoUOUAUrkfhehQ5QBSuR+F6FDlArkfhehQuOUCuR+F6FC45QDMzMzMzMzlAhetRuB5FOUCF61G4HkU5QM3MzMzMTDlAzczMzMxMOUDNzMzMzEw5QFyPwvUoXDlA9ihcj8J1OUCPwvUoXI85QJqZmZmZmTlAmpmZmZmZOUBmZmZmZqY5QDMzMzMzszlAPQrXo3C9OUA9CtejcL05QD0K16NwvTlAzczMzMzMOUDNzMzMzMw5QM3MzMzMzDlAzczMzMzMOUDNzMzMzMw5QNejcD0K1zlA16NwPQrXOUCamZmZmdk5QGZmZmZm5jlAZmZmZmbmOUBxPQrXo/A5QEjhehSuBzpAH4XrUbgeOkAfhetRuB46QK5H4XoULjpAMzMzMzMzOkC4HoXrUTg6QLgehetRODpACtejcD1KOkBSuB6F61E6QFK4HoXrUTpAUrgehetROkBmZmZmZmY6QGZmZmZmZjpAKVyPwvVoOkApXI/C9Wg6QAAAAAAAgDpAw/UoXI+COkCamZmZmZk6QJqZmZmZmTpAmpmZmZmZOkCamZmZmZk6QJqZmZmZmTpAH4XrUbieOkAzMzMzM7M6QDMzMzMzszpAMzMzMzOzOkAzMzMzM7M6QHsUrkfhujpAexSuR+G6OkAK16NwPco6QM3MzMzMzDpA16NwPQrXOkDhehSuR+E6QOF6FK5H4TpA4XoUrkfhOkB7FK5H4fo6QHsUrkfh+jpAFK5H4XoUO0CamZmZmRk7QJqZmZmZGTtA7FG4HoUrO0DsUbgehSs7QDMzMzMzMztAw/UoXI9CO0DD9Shcj0I7QEjhehSuRztAXI/C9ShcO0Bcj8L1KFw7QGZmZmZmZjtAAAAAAACAO0AAAAAAAIA7QAAAAAAAgDtAAAAAAACAO0DNzMzMzIw7QJqZmZmZmTtAmpmZmZmZO0CamZmZmZk7QKRwPQrXoztApHA9CtejO0CkcD0K16M7QKRwPQrXoztAMzMzMzOzO0AzMzMzM7M7QLgehetRuDtAuB6F61G4O0C4HoXrUbg7QLgehetRuDtAPQrXo3C9O0A9CtejcL07QD0K16NwvTtAPQrXo3C9O0AUrkfhetQ7QBSuR+F61DtAFK5H4XrUO0AUrkfhetQ7QNejcD0K1ztAZmZmZmbmO0CuR+F6FO47QK5H4XoU7jtArkfhehTuO0BxPQrXo/A7QAAAAAAAADxAAAAAAAAAPECF61G4HgU8QM3MzMzMDDxAzczMzMwMPEDNzMzMzAw8QJqZmZmZGTxAH4XrUbgePEAfhetRuB48QB+F61G4HjxAKVyPwvUoPEAzMzMzMzM8QLgehetRODxAuB6F61E4PECF61G4HkU8QM3MzMzMTDxAj8L1KFxPPECPwvUoXE88QI/C9ShcTzxAj8L1KFxPPEDhehSuR2E8QGZmZmZmZjxAZmZmZmZmPEA9CtejcH08QJqZmZmZmTxAmpmZmZmZPECamZmZmZk8QJqZmZmZmTxAcT0K16OwPEAzMzMzM7M8QDMzMzMzszxASOF6FK7HPEBI4XoUrsc8QEjhehSuxzxASOF6FK7HPEBSuB6F69E8QOF6FK5H4TxA4XoUrkfhPEDhehSuR+E8QOF6FK5H4TxAZmZmZmbmPEBmZmZmZuY8QGZmZmZm5jxArkfhehTuPECuR+F6FO48QHsUrkfh+jxAAAAAAAAAPUAAAAAAAAA9QArXo3A9Cj1AUrgehesRPUCamZmZmRk9QClcj8L1KD1Aw/UoXI9CPUDD9Shcj0I9QM3MzMzMTD1AXI/C9ShcPUAfhetRuF49QHsUrkfhej1AexSuR+F6PUAAAAAAAIA9QArXo3A9ij1A16NwPQqXPUDXo3A9Cpc9QJqZmZmZmT1AmpmZmZmZPUCkcD0K16M9QDMzMzMzsz1APQrXo3C9PUDNzMzMzMw9QM3MzMzMzD1Aj8L1KFzPPUCPwvUoXM89QI/C9Shczz1AFK5H4XrUPUBmZmZmZuY9QOxRuB6F6z1A7FG4HoXrPUDsUbgehes9QOxRuB6F6z1A7FG4HoXrPUDsUbgehes9QOxRuB6F6z1A7FG4HoXrPUCF61G4HgU+QIXrUbgeBT5AmpmZmZkZPkAfhetRuB4+QB+F61G4Hj5AH4XrUbgePkAfhetRuB4+QKRwPQrXIz5AMzMzMzMzPkAzMzMzMzM+QPYoXI/CNT5A9ihcj8I1PkD2KFyPwjU+QM3MzMzMTD5AzczMzMxMPkBmZmZmZmY+QGZmZmZmZj5AZmZmZmZmPkAAAAAAAIA+QAAAAAAAgD5AAAAAAACAPkAAAAAAAIA+QAAAAAAAgD5AAAAAAACAPkAAAAAAAIA+QNejcD0Klz5A16NwPQqXPkDXo3A9Cpc+QK5H4XoUrj5AcT0K16OwPkBI4XoUrsc+QEjhehSuxz5ASOF6FK7HPkDNzMzMzMw+QM3MzMzMzD5AzczMzMzMPkDhehSuR+E+QGZmZmZm5j5AZmZmZmbmPkAAAAAAAAA/QIXrUbgeBT9AhetRuB4FP0CPwvUoXA8/QOF6FK5HIT9A4XoUrkchP0ApXI/C9Sg/QClcj8L1KD9AKVyPwvUoP0AzMzMzMzM/QD0K16NwPT9Aw/UoXI9CP0DNzMzMzEw/QJqZmZmZWT9AmpmZmZlZP0CamZmZmVk/QGZmZmZmZj9AZmZmZmZmP0D2KFyPwnU/QArXo3A9ij9AmpmZmZmZP0CamZmZmZk/QKRwPQrXoz9AexSuR+G6P0B7FK5H4bo/QArXo3A9yj9ACtejcD3KP0DNzMzMzMw/QFK4HoXr0T9AUrgehevRP0BSuB6F69E/QFK4HoXr0T9AZmZmZmbmP0BmZmZmZuY/QGZmZmZm5j9A7FG4HoXrP0DsUbgehes/QOxRuB6F6z9A7FG4HoXrP0AAAAAAAABAQM3MzMzMDEBArkfhehQOQECuR+F6FA5AQI/C9ShcD0BAmpmZmZkZQECamZmZmRlAQD0K16NwHUBAPQrXo3AdQEBmZmZmZiZAQGZmZmZmJkBAZmZmZmYmQEBmZmZmZiZAQGZmZmZmJkBA7FG4HoUrQEAzMzMzMzNAQDMzMzMzM0BAMzMzMzMzQEAzMzMzMzNAQDMzMzMzM0BAmpmZmZk5QEAfhetRuD5AQAAAAAAAQEBASOF6FK5HQEDNzMzMzExAQNejcD0KV0BA16NwPQpXQEDXo3A9CldAQNejcD0KV0BApHA9CtdjQECkcD0K12NAQKRwPQrXY0BApHA9CtdjQEBmZmZmZmZAQI/C9Shcb0BAMzMzMzNzQEAzMzMzM3NAQFyPwvUofEBAXI/C9Sh8QEBcj8L1KHxAQFyPwvUofEBAAAAAAACAQEAAAAAAAIBAQAAAAAAAgEBASOF6FK6HQEDNzMzMzIxAQM3MzMzMjEBArkfhehSOQECuR+F6FI5AQK5H4XoUjkBAFK5H4XqUQEAUrkfhepRAQBSuR+F6lEBAFK5H4XqUQECamZmZmZlAQAAAAAAAoEBAAAAAAACgQEBmZmZmZqZAQGZmZmZmpkBACtejcD2qQEAK16NwPapAQArXo3A9qkBA7FG4HoWrQEDsUbgehatAQOxRuB6Fq0BAMzMzMzOzQEAzMzMzM7NAQLgehetRuEBAuB6F61G4QEAAAAAAAMBAQKRwPQrXw0BAcT0K16PQQECamZmZmdlAQJqZmZmZ2UBAXI/C9SjcQEBmZmZmZuZAQClcj8L16EBAcT0K16PwQED2KFyPwvVAQPYoXI/C9UBAH4XrUbj+QEAfhetRuP5AQM3MzMzMDEFAzczMzMwMQUDNzMzMzAxBQM3MzMzMDEFAmpmZmZkZQUCamZmZmRlBQHsUrkfhGkFAZmZmZmYmQUApXI/C9ShBQDMzMzMzM0FAPQrXo3A9QUAK16NwPUpBQArXo3A9SkFAzczMzMxMQUDNzMzMzExBQJqZmZmZWUFAw/UoXI9iQUDD9Shcj2JBQGZmZmZmZkFAZmZmZmZmQUBmZmZmZmZBQGZmZmZmZkFAZmZmZmZmQUCuR+F6FG5BQI/C9Shcb0FAexSuR+F6QUB7FK5H4XpBQM3MzMzMjEFAMzMzMzOTQUCamZmZmZlBQJqZmZmZmUFAmpmZmZmZQUBmZmZmZqZBQKRwPQrXw0FApHA9CtfDQUCkcD0K18NBQI/C9Shcz0FAUrgehevRQUBcj8L1KNxBQFyPwvUo3EFAZmZmZmbmQUApXI/C9ehBQClcj8L16EFAKVyPwvXoQUCuR+F6FO5BQDMzMzMz80FAFK5H4Xr0QUAUrkfhevRBQFyPwvUo/EFAAAAAAAAAQkAAAAAAAABCQOF6FK5HAUJACtejcD0KQkAK16NwPQpCQLgehetRGEJAmpmZmZkZQkCF61G4HiVCQGZmZmZmJkJAZmZmZmYmQkBxPQrXozBCQHE9CtejMEJAPQrXo3A9QkA9CtejcD1CQMP1KFyPQkJACtejcD1KQkAK16NwPUpCQHE9CtejUEJAcT0K16NQQkBxPQrXo1BCQPYoXI/CVUJA9ihcj8JVQkDhehSuR2FCQM3MzMzMbEJAzczMzMxsQkDNzMzMzGxCQK5H4XoUbkJArkfhehRuQkB7FK5H4XpCQAAAAAAAgEJAZmZmZmaGQkDNzMzMzIxCQM3MzMzMjEJAMzMzMzOTQkCF61G4HqVCQOxRuB6Fq0JAMzMzMzOzQkDXo3A9CrdCQNejcD0Kt0JA4XoUrkfBQkDD9Shcj8JCQI/C9Shcz0JAmpmZmZnZQkA9CtejcN1CQD0K16Nw3UJAMzMzMzPzQkAAAAAAAABDQAAAAAAAAENASOF6FK4HQ0BI4XoUrgdDQEjhehSuB0NASOF6FK4HQ0DNzMzMzAxDQM3MzMzMDENAzczMzMwMQ0D2KFyPwhVDQKRwPQrXI0NApHA9CtcjQ0CkcD0K1yNDQHE9CtejMENAUrgehesxQ0AUrkfhelRDQArXo3A9akNAMzMzMzNzQ0CamZmZmXlDQGZmZmZmhkNAZmZmZmaGQ0BmZmZmZoZDQM3MzMzMjENAFK5H4XqUQ0AUrkfhepRDQJqZmZmZmUNAw/UoXI+iQ0AK16NwPapDQB+F61G4vkNAH4XrUbi+Q0AAAAAAAMBDQM3MzMzMzENAj8L1KFzPQ0CamZmZmdlDQGZmZmZm5kNAKVyPwvXoQ0ApXI/C9ehDQClcj8L16ENAH4XrUbj+Q0AzMzMzMxNEQNejcD0KF0RA16NwPQoXREDhehSuRyFEQKRwPQrXI0RAj8L1KFwvREAAAAAAAEBEQEjhehSuR0RAFK5H4XpUREBI4XoUrmdEQM3MzMzMjERAPQrXo3CdREApXI/C9ahEQClcj8L1qERA9ihcj8K1REBcj8L1KLxEQGZmZmZm5kRAFK5H4Xr0REAUrkfhevREQHE9CtejEEVAH4XrUbgeRUAzMzMzMzNFQNejcD0KV0VAAAAAAABgRUC4HoXrUXhFQI/C9Shcj0VA7FG4HoWrRUBSuB6F6/FFQAAAAAAAAEZAXI/C9SgcRkCamZmZmVlGQB+F61G4XkZAKVyPwvWoRkDsUbgehQtHQJqZmZmZGUdAmpmZmZlZR0AAAAAAAGBHQBSuR+F6tEdAzczMzMzMR0ApXI/C9QhIQA==",
                    "dtype": "f8"
                  },
                  "xaxis": "x2",
                  "y": {
                    "bdata": "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",
                    "dtype": "f8"
                  },
                  "yaxis": "y2"
                },
                {
                  "hovertemplate": "sex=male<br>bmi=%{x}<br>charges=%{y}<extra></extra>",
                  "legendgroup": "male",
                  "marker": {
                    "color": "#EF553B",
                    "symbol": "circle"
                  },
                  "mode": "markers",
                  "name": "male",
                  "showlegend": true,
                  "type": "scattergl",
                  "x": {
                    "bdata": "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",
                    "dtype": "f8"
                  },
                  "xaxis": "x2",
                  "y": {
                    "bdata": "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",
                    "dtype": "f8"
                  },
                  "yaxis": "y2"
                },
                {
                  "hovertemplate": "<b>OLS trendline</b><br>charges = 477.071 * bmi + -805.414<br>R<sup>2</sup>=0.051001<br><br>sex=male<br>bmi=%{x}<br>charges=%{y} <b>(trend)</b><extra></extra>",
                  "legendgroup": "male",
                  "marker": {
                    "color": "#EF553B",
                    "symbol": "circle"
                  },
                  "mode": "lines",
                  "name": "male",
                  "showlegend": false,
                  "type": "scattergl",
                  "x": {
                    "bdata": "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",
                    "dtype": "f8"
                  },
                  "xaxis": "x2",
                  "y": {
                    "bdata": "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",
                    "dtype": "f8"
                  },
                  "yaxis": "y2"
                },
                {
                  "hovertemplate": "smoker=yes<br>children=%{x}<br>charges=%{y}<extra></extra>",
                  "legendgroup": "yes",
                  "marker": {
                    "color": "#636efa",
                    "symbol": "circle"
                  },
                  "mode": "markers",
                  "name": "yes",
                  "showlegend": true,
                  "type": "scattergl",
                  "x": {
                    "bdata": "AAAAAAECAAEBAAEBAAICAQADAAECAgADAgAAAwEAAQEAAgIDAwAAAAAAAAADAAIAAAIAAgACAgIAAAABAwADAQIBAwECAAEDAwMAAAIBAQABAAIAAwACAAECAgAAAAEAAQABAwEAAAQAAQABAQEAAgADAgEBAQAAAgECAAQAAAADAgACAgACAwIBAQADAQMAAwIAAAAAAAEAAwEAAAAAAQACAQMCAAAAAAMAAAIDAQAAAgIAAAAAAAEDAgIBAQECAAMAAwIAAwIDAQEBAAACAQAAAgEAAwEBAAUAAAICAwMCAQADAQAAAwABAgEAAQMBAAMCAQEAAwACAgEAAAAAAAECAAECAAADAAIABAACAwACAA==",
                    "dtype": "i1"
                  },
                  "xaxis": "x3",
                  "y": {
                    "bdata": "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",
                    "dtype": "f8"
                  },
                  "yaxis": "y3"
                },
                {
                  "hovertemplate": "<b>OLS trendline</b><br>charges = 358.546 * children + 31651.1<br>R<sup>2</sup>=0.001292<br><br>smoker=yes<br>children=%{x}<br>charges=%{y} <b>(trend)</b><extra></extra>",
                  "legendgroup": "yes",
                  "marker": {
                    "color": "#636efa",
                    "symbol": "circle"
                  },
                  "mode": "lines",
                  "name": "yes",
                  "showlegend": false,
                  "type": "scattergl",
                  "x": {
                    "bdata": "AAAAAAAAAAAAAAAAAAAAAAAAAAAAAAAAAAAAAAAAAAAAAAAAAAAAAAAAAAAAAAAAAAAAAAAAAAAAAAAAAAAAAAAAAAAAAAAAAAAAAAAAAAAAAAAAAAAAAAAAAAAAAAAAAAAAAAAAAAAAAAAAAAAAAAAAAAEBAQEBAQEBAQEBAQEBAQEBAQEBAQEBAQEBAQEBAQEBAQEBAQEBAQEBAQEBAQEBAQEBAQEBAQEBAQEBAQECAgICAgICAgICAgICAgICAgICAgICAgICAgICAgICAgICAgICAgICAgICAgICAgICAgICAgICAwMDAwMDAwMDAwMDAwMDAwMDAwMDAwMDAwMDAwMDAwMDAwMDAwMDBAQEBQ==",
                    "dtype": "i1"
                  },
                  "xaxis": "x3",
                  "y": {
                    "bdata": "ClOVuMfo3kAKU5W4x+jeQApTlbjH6N5AClOVuMfo3kAKU5W4x+jeQApTlbjH6N5AClOVuMfo3kAKU5W4x+jeQApTlbjH6N5AClOVuMfo3kAKU5W4x+jeQApTlbjH6N5AClOVuMfo3kAKU5W4x+jeQApTlbjH6N5AClOVuMfo3kAKU5W4x+jeQApTlbjH6N5AClOVuMfo3kAKU5W4x+jeQApTlbjH6N5AClOVuMfo3kAKU5W4x+jeQApTlbjH6N5AClOVuMfo3kAKU5W4x+jeQApTlbjH6N5AClOVuMfo3kAKU5W4x+jeQApTlbjH6N5AClOVuMfo3kAKU5W4x+jeQApTlbjH6N5AClOVuMfo3kAKU5W4x+jeQApTlbjH6N5AClOVuMfo3kAKU5W4x+jeQApTlbjH6N5AClOVuMfo3kAKU5W4x+jeQApTlbjH6N5AClOVuMfo3kAKU5W4x+jeQApTlbjH6N5AClOVuMfo3kAKU5W4x+jeQApTlbjH6N5AClOVuMfo3kAKU5W4x+jeQApTlbjH6N5AClOVuMfo3kAKU5W4x+jeQApTlbjH6N5AClOVuMfo3kAKU5W4x+jeQApTlbjH6N5AClOVuMfo3kAKU5W4x+jeQApTlbjH6N5AClOVuMfo3kAKU5W4x+jeQApTlbjH6N5AClOVuMfo3kAKU5W4x+jeQApTlbjH6N5AClOVuMfo3kAKU5W4x+jeQApTlbjH6N5AClOVuMfo3kAKU5W4x+jeQApTlbjH6N5AClOVuMfo3kAKU5W4x+jeQApTlbjH6N5AClOVuMfo3kAKU5W4x+jeQApTlbjH6N5AClOVuMfo3kAKU5W4x+jeQApTlbjH6N5AClOVuMfo3kAKU5W4x+jeQApTlbjH6N5AClOVuMfo3kAKU5W4x+jeQApTlbjH6N5AClOVuMfo3kAKU5W4x+jeQApTlbjH6N5AClOVuMfo3kAKU5W4x+jeQApTlbjH6N5AClOVuMfo3kAKU5W4x+jeQApTlbjH6N5AClOVuMfo3kAKU5W4x+jeQApTlbjH6N5AClOVuMfo3kAKU5W4x+jeQApTlbjH6N5AClOVuMfo3kAKU5W4x+jeQApTlbjH6N5AClOVuMfo3kAKU5W4x+jeQApTlbjH6N5AClOVuMfo3kAKU5W4x+jeQApTlbjH6N5AClOVuMfo3kAKU5W4x+jeQApTlbjH6N5AClOVuMfo3kASfsunakLfQBJ+y6dqQt9AEn7Lp2pC30ASfsunakLfQBJ+y6dqQt9AEn7Lp2pC30ASfsunakLfQBJ+y6dqQt9AEn7Lp2pC30ASfsunakLfQBJ+y6dqQt9AEn7Lp2pC30ASfsunakLfQBJ+y6dqQt9AEn7Lp2pC30ASfsunakLfQBJ+y6dqQt9AEn7Lp2pC30ASfsunakLfQBJ+y6dqQt9AEn7Lp2pC30ASfsunakLfQBJ+y6dqQt9AEn7Lp2pC30ASfsunakLfQBJ+y6dqQt9AEn7Lp2pC30ASfsunakLfQBJ+y6dqQt9AEn7Lp2pC30ASfsunakLfQBJ+y6dqQt9AEn7Lp2pC30ASfsunakLfQBJ+y6dqQt9AEn7Lp2pC30ASfsunakLfQBJ+y6dqQt9AEn7Lp2pC30ASfsunakLfQBJ+y6dqQt9AEn7Lp2pC30ASfsunakLfQBJ+y6dqQt9AEn7Lp2pC30ASfsunakLfQBJ+y6dqQt9AEn7Lp2pC30ASfsunakLfQBJ+y6dqQt9AEn7Lp2pC30ASfsunakLfQBJ+y6dqQt9AEn7Lp2pC30ASfsunakLfQBJ+y6dqQt9AEn7Lp2pC30ASfsunakLfQBJ+y6dqQt9AEn7Lp2pC30ASfsunakLfQBmpAZcNnN9AGakBlw2c30AZqQGXDZzfQBmpAZcNnN9AGakBlw2c30AZqQGXDZzfQBmpAZcNnN9AGakBlw2c30AZqQGXDZzfQBmpAZcNnN9AGakBlw2c30AZqQGXDZzfQBmpAZcNnN9AGakBlw2c30AZqQGXDZzfQBmpAZcNnN9AGakBlw2c30AZqQGXDZzfQBmpAZcNnN9AGakBlw2c30AZqQGXDZzfQBmpAZcNnN9AGakBlw2c30AZqQGXDZzfQBmpAZcNnN9AGakBlw2c30AZqQGXDZzfQBmpAZcNnN9AGakBlw2c30AZqQGXDZzfQBmpAZcNnN9AGakBlw2c30AZqQGXDZzfQBmpAZcNnN9AGakBlw2c30AZqQGXDZzfQBmpAZcNnN9AGakBlw2c30AZqQGXDZzfQBmpAZcNnN9AGakBlw2c30AZqQGXDZzfQBmpAZcNnN9AGakBlw2c30AZqQGXDZzfQBmpAZcNnN9AGakBlw2c30AZqQGXDZzfQBmpAZcNnN9AGakBlw2c30AZqQGXDZzfQBmpAZcNnN9AGakBlw2c30AZqQGXDZzfQBmpAZcNnN9AIdQ3hrD130Ah1DeGsPXfQCHUN4aw9d9AIdQ3hrD130Ah1DeGsPXfQCHUN4aw9d9AIdQ3hrD130Ah1DeGsPXfQCHUN4aw9d9AIdQ3hrD130Ah1DeGsPXfQCHUN4aw9d9AIdQ3hrD130Ah1DeGsPXfQCHUN4aw9d9AIdQ3hrD130Ah1DeGsPXfQCHUN4aw9d9AIdQ3hrD130Ah1DeGsPXfQCHUN4aw9d9AIdQ3hrD130Ah1DeGsPXfQCHUN4aw9d9AIdQ3hrD130Ah1DeGsPXfQCHUN4aw9d9AIdQ3hrD130Ah1DeGsPXfQCHUN4aw9d9AIdQ3hrD130Ah1DeGsPXfQCHUN4aw9d9AIdQ3hrD130Ah1DeGsPXfQCHUN4aw9d9AIdQ3hrD130Ah1DeGsPXfQCHUN4aw9d9AlP+2uqkn4ECU/7a6qSfgQJT/trqpJ+BAGBVSMntU4EA=",
                    "dtype": "f8"
                  },
                  "yaxis": "y3"
                },
                {
                  "hovertemplate": "smoker=no<br>children=%{x}<br>charges=%{y}<extra></extra>",
                  "legendgroup": "no",
                  "marker": {
                    "color": "#EF553B",
                    "symbol": "circle"
                  },
                  "mode": "markers",
                  "name": "no",
                  "showlegend": true,
                  "type": "scattergl",
                  "x": {
                    "bdata": "AQMAAAABAwIAAAAAAQEAAAABAAIDAAIBAAUAAAMAAAIBAgEAAgAAAAIDAgIDBAEBAAIBAAUDAQIAAQAAAAEABAAAAAABAgEDAAAAAAEBAgABAgAAAwAAAAICAAADAAACAAACAAAAAAADAAIBAgMBAQEBAAMBAAMBAgAEBQMBAwAAAAEAAgECAwAAAwACAgMBAgAAAAEAAAACAAAAAQAAAQAAAQEEAgECAgAAAQABAAMDAAABAgEDAAECAAIBAQEDAAAAAQEDAwAEAAMDAQEBAgEAAgIAAgEBAQABAgADAAEAAwABAwICAgICAQACAAAAAAAAAAEBBAAAAQEAAAACAAABAQAAAAAEAwIBAQAAAAAAAAADAwAAAgEBAgEDAgIDAAABAAMBAAICAAACAAMEAAEBAgADAAIAAAEAAwACAAEDAQAFAAEAAQACBQEAAQMAAgAAAQMAAwUAAQABAAAAAAEEAQAAAgACAAADAwIAAAECAQEAAAAAAAAAAwIAAQMAAwABAAAAAAACAgIAAAEDAQIAAAEAAAAAAQIBAAAAAAAAAgEBAAACAAABAwIBAAMCAAAAAgAAAAACAAIBAAACAAABAgABAgUAAQIBAgAAAQABAAIBAAEDAAEAAQIAAQIBAgIAAAADAAACAQIAAwAAAAEBAAADAQABAAACAQABAgQFAAMCAwEDAAACAQACAAECAQQDAQEAAQEDAAAAAAMDAgEAAAECAgABAAEBAAEAAgACAAAAAQECAwMAAQICAAAAAQECAAADAAABAQABAQMBAwECAgAAAQIAAQAAAAAEAgMDAgEAAgABAQACAwIAAgMCAAMAAAEBAwAAAwAAAAACAgEAAQABAAABAAABAwMCAgIAAAMBAAACAAIBAAACAAECAAACAAAAAAEBAAACAgABAAMCAAACAAEAAwABAAEDAAEFAQIDAQAEAAABBAAAAAEAAAADAAACAwEDAQMBAgAAAQAAAQAAAgIBAAEBAQUAAgACBQIAAAEAAAABAgAAAQEBAQEAAQMCAQECBQMAAAAAAAEDAAEAAQUBAwEAAQICAQMDAAMAAAABAgICAQAEAQAAAQIDAgABAQAAAAIAAAMAAgAAAQABAQABAAAAAAABAAEDBAECAAEBAAACAAEBAAMCAQEBAgAAAQAAAwQEAAABAwEAAAAAAgEDAQMAAQUDAgEAAAIBAAUCAAAAAwEAAAEDAAICAwABAAAAAQQDAgAAAQIBAAEAAAICAQACAgABAAEAAAECAAACAQEAAAMAAQICAgABAQIBAQIAAgEAAAIDAQIAAQECAgAAAwACAAAAAwEDAAAFAwQAAAQAAAMBAwAAAQEBAgAAAwEABQEAAAACAAEAAAEBAgADAAEAAgIBAQACAQABAQAABAIDAAEAAAECAgIAAwMAAAA=",
                    "dtype": "i1"
                  },
                  "xaxis": "x3",
                  "y": {
                    "bdata": "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",
                    "dtype": "f8"
                  },
                  "yaxis": "y3"
                },
                {
                  "hovertemplate": "<b>OLS trendline</b><br>charges = 683.592 * children + 7689<br>R<sup>2</sup>=0.019301<br><br>smoker=no<br>children=%{x}<br>charges=%{y} <b>(trend)</b><extra></extra>",
                  "legendgroup": "no",
                  "marker": {
                    "color": "#EF553B",
                    "symbol": "circle"
                  },
                  "mode": "lines",
                  "name": "no",
                  "showlegend": false,
                  "type": "scattergl",
                  "x": {
                    "bdata": "AAAAAAAAAAAAAAAAAAAAAAAAAAAAAAAAAAAAAAAAAAAAAAAAAAAAAAAAAAAAAAAAAAAAAAAAAAAAAAAAAAAAAAAAAAAAAAAAAAAAAAAAAAAAAAAAAAAAAAAAAAAAAAAAAAAAAAAAAAAAAAAAAAAAAAAAAAAAAAAAAAAAAAAAAAAAAAAAAAAAAAAAAAAAAAAAAAAAAAAAAAAAAAAAAAAAAAAAAAAAAAAAAAAAAAAAAAAAAAAAAAAAAAAAAAAAAAAAAAAAAAAAAAAAAAAAAAAAAAAAAAAAAAAAAAAAAAAAAAAAAAAAAAAAAAAAAAAAAAAAAAAAAAAAAAAAAAAAAAAAAAAAAAAAAAAAAAAAAAAAAAAAAAAAAAAAAAAAAAAAAAAAAAAAAAAAAAAAAAAAAAAAAAAAAAAAAAAAAAAAAAAAAAAAAAAAAAAAAAAAAAAAAAAAAAAAAAAAAAAAAAAAAAAAAAAAAAAAAAAAAAAAAAAAAAAAAAAAAAAAAAAAAAAAAAAAAAAAAAAAAAAAAAAAAAAAAAAAAAAAAAAAAAAAAAAAAAAAAAAAAAAAAAAAAAAAAAAAAAAAAAAAAAAAAAAAAAAAAAAAAAAAAAAAAAAAAQEBAQEBAQEBAQEBAQEBAQEBAQEBAQEBAQEBAQEBAQEBAQEBAQEBAQEBAQEBAQEBAQEBAQEBAQEBAQEBAQEBAQEBAQEBAQEBAQEBAQEBAQEBAQEBAQEBAQEBAQEBAQEBAQEBAQEBAQEBAQEBAQEBAQEBAQEBAQEBAQEBAQEBAQEBAQEBAQEBAQEBAQEBAQEBAQEBAQEBAQEBAQEBAQEBAQEBAQEBAQEBAQEBAQEBAQEBAQEBAQEBAQEBAQEBAQEBAQEBAQEBAQEBAQEBAQEBAQEBAQEBAQEBAQEBAQEBAQEBAQEBAQEBAQEBAQEBAQEBAQEBAQEBAQEBAQEBAQEBAQEBAQEBAQECAgICAgICAgICAgICAgICAgICAgICAgICAgICAgICAgICAgICAgICAgICAgICAgICAgICAgICAgICAgICAgICAgICAgICAgICAgICAgICAgICAgICAgICAgICAgICAgICAgICAgICAgICAgICAgICAgICAgICAgICAgICAgICAgICAgICAgICAgICAgICAgICAgICAgICAgICAgICAgICAgICAgICAgICAgICAgICAgICAgICAgICAgMDAwMDAwMDAwMDAwMDAwMDAwMDAwMDAwMDAwMDAwMDAwMDAwMDAwMDAwMDAwMDAwMDAwMDAwMDAwMDAwMDAwMDAwMDAwMDAwMDAwMDAwMDAwMDAwMDAwMDAwMDAwMDAwMDAwMDAwMDAwMDAwMDAwMDAwMDAwMEBAQEBAQEBAQEBAQEBAQEBAQEBAQEBQUFBQUFBQUFBQUFBQUFBQU=",
                    "dtype": "i1"
                  },
                  "xaxis": "x3",
                  "y": {
                    "bdata": "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",
                    "dtype": "f8"
                  },
                  "yaxis": "y3"
                }
              ],
              "layout": {
                "annotations": [
                  {
                    "font": {
                      "size": 16
                    },
                    "showarrow": false,
                    "text": "Charges vs Age (Smoker)",
                    "x": 0.14444444444444446,
                    "xanchor": "center",
                    "xref": "paper",
                    "y": 1,
                    "yanchor": "bottom",
                    "yref": "paper"
                  },
                  {
                    "font": {
                      "size": 16
                    },
                    "showarrow": false,
                    "text": "Charges vs BMI (Gender)",
                    "x": 0.5,
                    "xanchor": "center",
                    "xref": "paper",
                    "y": 1,
                    "yanchor": "bottom",
                    "yref": "paper"
                  },
                  {
                    "font": {
                      "size": 16
                    },
                    "showarrow": false,
                    "text": "Charges vs Children",
                    "x": 0.8555555555555556,
                    "xanchor": "center",
                    "xref": "paper",
                    "y": 1,
                    "yanchor": "bottom",
                    "yref": "paper"
                  }
                ],
                "height": 500,
                "template": {
                  "data": {
                    "bar": [
                      {
                        "error_x": {
                          "color": "#2a3f5f"
                        },
                        "error_y": {
                          "color": "#2a3f5f"
                        },
                        "marker": {
                          "line": {
                            "color": "#E5ECF6",
                            "width": 0.5
                          },
                          "pattern": {
                            "fillmode": "overlay",
                            "size": 10,
                            "solidity": 0.2
                          }
                        },
                        "type": "bar"
                      }
                    ],
                    "barpolar": [
                      {
                        "marker": {
                          "line": {
                            "color": "#E5ECF6",
                            "width": 0.5
                          },
                          "pattern": {
                            "fillmode": "overlay",
                            "size": 10,
                            "solidity": 0.2
                          }
                        },
                        "type": "barpolar"
                      }
                    ],
                    "carpet": [
                      {
                        "aaxis": {
                          "endlinecolor": "#2a3f5f",
                          "gridcolor": "white",
                          "linecolor": "white",
                          "minorgridcolor": "white",
                          "startlinecolor": "#2a3f5f"
                        },
                        "baxis": {
                          "endlinecolor": "#2a3f5f",
                          "gridcolor": "white",
                          "linecolor": "white",
                          "minorgridcolor": "white",
                          "startlinecolor": "#2a3f5f"
                        },
                        "type": "carpet"
                      }
                    ],
                    "choropleth": [
                      {
                        "colorbar": {
                          "outlinewidth": 0,
                          "ticks": ""
                        },
                        "type": "choropleth"
                      }
                    ],
                    "contour": [
                      {
                        "colorbar": {
                          "outlinewidth": 0,
                          "ticks": ""
                        },
                        "colorscale": [
                          [
                            0,
                            "#0d0887"
                          ],
                          [
                            0.1111111111111111,
                            "#46039f"
                          ],
                          [
                            0.2222222222222222,
                            "#7201a8"
                          ],
                          [
                            0.3333333333333333,
                            "#9c179e"
                          ],
                          [
                            0.4444444444444444,
                            "#bd3786"
                          ],
                          [
                            0.5555555555555556,
                            "#d8576b"
                          ],
                          [
                            0.6666666666666666,
                            "#ed7953"
                          ],
                          [
                            0.7777777777777778,
                            "#fb9f3a"
                          ],
                          [
                            0.8888888888888888,
                            "#fdca26"
                          ],
                          [
                            1,
                            "#f0f921"
                          ]
                        ],
                        "type": "contour"
                      }
                    ],
                    "contourcarpet": [
                      {
                        "colorbar": {
                          "outlinewidth": 0,
                          "ticks": ""
                        },
                        "type": "contourcarpet"
                      }
                    ],
                    "heatmap": [
                      {
                        "colorbar": {
                          "outlinewidth": 0,
                          "ticks": ""
                        },
                        "colorscale": [
                          [
                            0,
                            "#0d0887"
                          ],
                          [
                            0.1111111111111111,
                            "#46039f"
                          ],
                          [
                            0.2222222222222222,
                            "#7201a8"
                          ],
                          [
                            0.3333333333333333,
                            "#9c179e"
                          ],
                          [
                            0.4444444444444444,
                            "#bd3786"
                          ],
                          [
                            0.5555555555555556,
                            "#d8576b"
                          ],
                          [
                            0.6666666666666666,
                            "#ed7953"
                          ],
                          [
                            0.7777777777777778,
                            "#fb9f3a"
                          ],
                          [
                            0.8888888888888888,
                            "#fdca26"
                          ],
                          [
                            1,
                            "#f0f921"
                          ]
                        ],
                        "type": "heatmap"
                      }
                    ],
                    "histogram": [
                      {
                        "marker": {
                          "pattern": {
                            "fillmode": "overlay",
                            "size": 10,
                            "solidity": 0.2
                          }
                        },
                        "type": "histogram"
                      }
                    ],
                    "histogram2d": [
                      {
                        "colorbar": {
                          "outlinewidth": 0,
                          "ticks": ""
                        },
                        "colorscale": [
                          [
                            0,
                            "#0d0887"
                          ],
                          [
                            0.1111111111111111,
                            "#46039f"
                          ],
                          [
                            0.2222222222222222,
                            "#7201a8"
                          ],
                          [
                            0.3333333333333333,
                            "#9c179e"
                          ],
                          [
                            0.4444444444444444,
                            "#bd3786"
                          ],
                          [
                            0.5555555555555556,
                            "#d8576b"
                          ],
                          [
                            0.6666666666666666,
                            "#ed7953"
                          ],
                          [
                            0.7777777777777778,
                            "#fb9f3a"
                          ],
                          [
                            0.8888888888888888,
                            "#fdca26"
                          ],
                          [
                            1,
                            "#f0f921"
                          ]
                        ],
                        "type": "histogram2d"
                      }
                    ],
                    "histogram2dcontour": [
                      {
                        "colorbar": {
                          "outlinewidth": 0,
                          "ticks": ""
                        },
                        "colorscale": [
                          [
                            0,
                            "#0d0887"
                          ],
                          [
                            0.1111111111111111,
                            "#46039f"
                          ],
                          [
                            0.2222222222222222,
                            "#7201a8"
                          ],
                          [
                            0.3333333333333333,
                            "#9c179e"
                          ],
                          [
                            0.4444444444444444,
                            "#bd3786"
                          ],
                          [
                            0.5555555555555556,
                            "#d8576b"
                          ],
                          [
                            0.6666666666666666,
                            "#ed7953"
                          ],
                          [
                            0.7777777777777778,
                            "#fb9f3a"
                          ],
                          [
                            0.8888888888888888,
                            "#fdca26"
                          ],
                          [
                            1,
                            "#f0f921"
                          ]
                        ],
                        "type": "histogram2dcontour"
                      }
                    ],
                    "mesh3d": [
                      {
                        "colorbar": {
                          "outlinewidth": 0,
                          "ticks": ""
                        },
                        "type": "mesh3d"
                      }
                    ],
                    "parcoords": [
                      {
                        "line": {
                          "colorbar": {
                            "outlinewidth": 0,
                            "ticks": ""
                          }
                        },
                        "type": "parcoords"
                      }
                    ],
                    "pie": [
                      {
                        "automargin": true,
                        "type": "pie"
                      }
                    ],
                    "scatter": [
                      {
                        "fillpattern": {
                          "fillmode": "overlay",
                          "size": 10,
                          "solidity": 0.2
                        },
                        "type": "scatter"
                      }
                    ],
                    "scatter3d": [
                      {
                        "line": {
                          "colorbar": {
                            "outlinewidth": 0,
                            "ticks": ""
                          }
                        },
                        "marker": {
                          "colorbar": {
                            "outlinewidth": 0,
                            "ticks": ""
                          }
                        },
                        "type": "scatter3d"
                      }
                    ],
                    "scattercarpet": [
                      {
                        "marker": {
                          "colorbar": {
                            "outlinewidth": 0,
                            "ticks": ""
                          }
                        },
                        "type": "scattercarpet"
                      }
                    ],
                    "scattergeo": [
                      {
                        "marker": {
                          "colorbar": {
                            "outlinewidth": 0,
                            "ticks": ""
                          }
                        },
                        "type": "scattergeo"
                      }
                    ],
                    "scattergl": [
                      {
                        "marker": {
                          "colorbar": {
                            "outlinewidth": 0,
                            "ticks": ""
                          }
                        },
                        "type": "scattergl"
                      }
                    ],
                    "scattermap": [
                      {
                        "marker": {
                          "colorbar": {
                            "outlinewidth": 0,
                            "ticks": ""
                          }
                        },
                        "type": "scattermap"
                      }
                    ],
                    "scattermapbox": [
                      {
                        "marker": {
                          "colorbar": {
                            "outlinewidth": 0,
                            "ticks": ""
                          }
                        },
                        "type": "scattermapbox"
                      }
                    ],
                    "scatterpolar": [
                      {
                        "marker": {
                          "colorbar": {
                            "outlinewidth": 0,
                            "ticks": ""
                          }
                        },
                        "type": "scatterpolar"
                      }
                    ],
                    "scatterpolargl": [
                      {
                        "marker": {
                          "colorbar": {
                            "outlinewidth": 0,
                            "ticks": ""
                          }
                        },
                        "type": "scatterpolargl"
                      }
                    ],
                    "scatterternary": [
                      {
                        "marker": {
                          "colorbar": {
                            "outlinewidth": 0,
                            "ticks": ""
                          }
                        },
                        "type": "scatterternary"
                      }
                    ],
                    "surface": [
                      {
                        "colorbar": {
                          "outlinewidth": 0,
                          "ticks": ""
                        },
                        "colorscale": [
                          [
                            0,
                            "#0d0887"
                          ],
                          [
                            0.1111111111111111,
                            "#46039f"
                          ],
                          [
                            0.2222222222222222,
                            "#7201a8"
                          ],
                          [
                            0.3333333333333333,
                            "#9c179e"
                          ],
                          [
                            0.4444444444444444,
                            "#bd3786"
                          ],
                          [
                            0.5555555555555556,
                            "#d8576b"
                          ],
                          [
                            0.6666666666666666,
                            "#ed7953"
                          ],
                          [
                            0.7777777777777778,
                            "#fb9f3a"
                          ],
                          [
                            0.8888888888888888,
                            "#fdca26"
                          ],
                          [
                            1,
                            "#f0f921"
                          ]
                        ],
                        "type": "surface"
                      }
                    ],
                    "table": [
                      {
                        "cells": {
                          "fill": {
                            "color": "#EBF0F8"
                          },
                          "line": {
                            "color": "white"
                          }
                        },
                        "header": {
                          "fill": {
                            "color": "#C8D4E3"
                          },
                          "line": {
                            "color": "white"
                          }
                        },
                        "type": "table"
                      }
                    ]
                  },
                  "layout": {
                    "annotationdefaults": {
                      "arrowcolor": "#2a3f5f",
                      "arrowhead": 0,
                      "arrowwidth": 1
                    },
                    "autotypenumbers": "strict",
                    "coloraxis": {
                      "colorbar": {
                        "outlinewidth": 0,
                        "ticks": ""
                      }
                    },
                    "colorscale": {
                      "diverging": [
                        [
                          0,
                          "#8e0152"
                        ],
                        [
                          0.1,
                          "#c51b7d"
                        ],
                        [
                          0.2,
                          "#de77ae"
                        ],
                        [
                          0.3,
                          "#f1b6da"
                        ],
                        [
                          0.4,
                          "#fde0ef"
                        ],
                        [
                          0.5,
                          "#f7f7f7"
                        ],
                        [
                          0.6,
                          "#e6f5d0"
                        ],
                        [
                          0.7,
                          "#b8e186"
                        ],
                        [
                          0.8,
                          "#7fbc41"
                        ],
                        [
                          0.9,
                          "#4d9221"
                        ],
                        [
                          1,
                          "#276419"
                        ]
                      ],
                      "sequential": [
                        [
                          0,
                          "#0d0887"
                        ],
                        [
                          0.1111111111111111,
                          "#46039f"
                        ],
                        [
                          0.2222222222222222,
                          "#7201a8"
                        ],
                        [
                          0.3333333333333333,
                          "#9c179e"
                        ],
                        [
                          0.4444444444444444,
                          "#bd3786"
                        ],
                        [
                          0.5555555555555556,
                          "#d8576b"
                        ],
                        [
                          0.6666666666666666,
                          "#ed7953"
                        ],
                        [
                          0.7777777777777778,
                          "#fb9f3a"
                        ],
                        [
                          0.8888888888888888,
                          "#fdca26"
                        ],
                        [
                          1,
                          "#f0f921"
                        ]
                      ],
                      "sequentialminus": [
                        [
                          0,
                          "#0d0887"
                        ],
                        [
                          0.1111111111111111,
                          "#46039f"
                        ],
                        [
                          0.2222222222222222,
                          "#7201a8"
                        ],
                        [
                          0.3333333333333333,
                          "#9c179e"
                        ],
                        [
                          0.4444444444444444,
                          "#bd3786"
                        ],
                        [
                          0.5555555555555556,
                          "#d8576b"
                        ],
                        [
                          0.6666666666666666,
                          "#ed7953"
                        ],
                        [
                          0.7777777777777778,
                          "#fb9f3a"
                        ],
                        [
                          0.8888888888888888,
                          "#fdca26"
                        ],
                        [
                          1,
                          "#f0f921"
                        ]
                      ]
                    },
                    "colorway": [
                      "#636efa",
                      "#EF553B",
                      "#00cc96",
                      "#ab63fa",
                      "#FFA15A",
                      "#19d3f3",
                      "#FF6692",
                      "#B6E880",
                      "#FF97FF",
                      "#FECB52"
                    ],
                    "font": {
                      "color": "#2a3f5f"
                    },
                    "geo": {
                      "bgcolor": "white",
                      "lakecolor": "white",
                      "landcolor": "#E5ECF6",
                      "showlakes": true,
                      "showland": true,
                      "subunitcolor": "white"
                    },
                    "hoverlabel": {
                      "align": "left"
                    },
                    "hovermode": "closest",
                    "mapbox": {
                      "style": "light"
                    },
                    "paper_bgcolor": "white",
                    "plot_bgcolor": "#E5ECF6",
                    "polar": {
                      "angularaxis": {
                        "gridcolor": "white",
                        "linecolor": "white",
                        "ticks": ""
                      },
                      "bgcolor": "#E5ECF6",
                      "radialaxis": {
                        "gridcolor": "white",
                        "linecolor": "white",
                        "ticks": ""
                      }
                    },
                    "scene": {
                      "xaxis": {
                        "backgroundcolor": "#E5ECF6",
                        "gridcolor": "white",
                        "gridwidth": 2,
                        "linecolor": "white",
                        "showbackground": true,
                        "ticks": "",
                        "zerolinecolor": "white"
                      },
                      "yaxis": {
                        "backgroundcolor": "#E5ECF6",
                        "gridcolor": "white",
                        "gridwidth": 2,
                        "linecolor": "white",
                        "showbackground": true,
                        "ticks": "",
                        "zerolinecolor": "white"
                      },
                      "zaxis": {
                        "backgroundcolor": "#E5ECF6",
                        "gridcolor": "white",
                        "gridwidth": 2,
                        "linecolor": "white",
                        "showbackground": true,
                        "ticks": "",
                        "zerolinecolor": "white"
                      }
                    },
                    "shapedefaults": {
                      "line": {
                        "color": "#2a3f5f"
                      }
                    },
                    "ternary": {
                      "aaxis": {
                        "gridcolor": "white",
                        "linecolor": "white",
                        "ticks": ""
                      },
                      "baxis": {
                        "gridcolor": "white",
                        "linecolor": "white",
                        "ticks": ""
                      },
                      "bgcolor": "#E5ECF6",
                      "caxis": {
                        "gridcolor": "white",
                        "linecolor": "white",
                        "ticks": ""
                      }
                    },
                    "title": {
                      "x": 0.05
                    },
                    "xaxis": {
                      "automargin": true,
                      "gridcolor": "white",
                      "linecolor": "white",
                      "ticks": "",
                      "title": {
                        "standoff": 15
                      },
                      "zerolinecolor": "white",
                      "zerolinewidth": 2
                    },
                    "yaxis": {
                      "automargin": true,
                      "gridcolor": "white",
                      "linecolor": "white",
                      "ticks": "",
                      "title": {
                        "standoff": 15
                      },
                      "zerolinecolor": "white",
                      "zerolinewidth": 2
                    }
                  }
                },
                "title": {
                  "text": "Predictive Analysis: Estimating Insurance Charges"
                },
                "width": 1300,
                "xaxis": {
                  "anchor": "y",
                  "domain": [
                    0,
                    0.2888888888888889
                  ],
                  "title": {
                    "text": "Age"
                  }
                },
                "xaxis2": {
                  "anchor": "y2",
                  "domain": [
                    0.35555555555555557,
                    0.6444444444444445
                  ],
                  "title": {
                    "text": "BMI"
                  }
                },
                "xaxis3": {
                  "anchor": "y3",
                  "domain": [
                    0.7111111111111111,
                    1
                  ],
                  "title": {
                    "text": "Children"
                  }
                },
                "yaxis": {
                  "anchor": "x",
                  "domain": [
                    0,
                    1
                  ],
                  "title": {
                    "text": "Charges ($)"
                  }
                },
                "yaxis2": {
                  "anchor": "x2",
                  "domain": [
                    0,
                    1
                  ]
                },
                "yaxis3": {
                  "anchor": "x3",
                  "domain": [
                    0,
                    1
                  ]
                }
              }
            }
          },
          "metadata": {},
          "output_type": "display_data"
        }
      ],
      "source": [
        "%pip install statsmodels\n",
        "\n",
        "import pandas as pd\n",
        "import plotly.express as px\n",
        "import plotly.graph_objects as go\n",
        "from plotly.subplots import make_subplots\n",
        "import statsmodels.api as sm\n",
        "\n",
        "\n",
        "\n",
        "df_cleaned = pd.read_csv('cleaned_healthcare_insurance.csv')\n",
        "\n",
        "# Create subplots: 1 row, 3 columns\n",
        "fig = make_subplots(rows=1, cols=3, subplot_titles=[\n",
        "    'Charges vs Age (Smoker)',\n",
        "    'Charges vs BMI (Gender)',\n",
        "    'Charges vs Children'\n",
        "])\n",
        "\n",
        "# --- Charges vs Age (with smoker) ---\n",
        "scatter1 = px.scatter(df_cleaned, x='age', y='charges', color='smoker', trendline='ols')\n",
        "for trace in scatter1.data:\n",
        "    fig.add_trace(trace, row=1, col=1)\n",
        "\n",
        "# --- Charges vs BMI (with gender) ---\n",
        "scatter2 = px.scatter(df_cleaned, x='bmi', y='charges', color='sex', trendline='ols')\n",
        "for trace in scatter2.data:\n",
        "    fig.add_trace(trace, row=1, col=2)\n",
        "\n",
        "# --- Charges vs Number of Children ---\n",
        "scatter3 = px.scatter(df_cleaned, x='children', y='charges', color='smoker', trendline='ols')\n",
        "for trace in scatter3.data:\n",
        "    fig.add_trace(trace, row=1, col=3)\n",
        "\n",
        "# Layout\n",
        "fig.update_layout(height=500, width=1300, title_text=\"Predictive Analysis: Estimating Insurance Charges\")\n",
        "fig.update_yaxes(title_text=\"Charges ($)\", row=1, col=1)\n",
        "fig.update_xaxes(title_text=\"Age\", row=1, col=1)\n",
        "fig.update_xaxes(title_text=\"BMI\", row=1, col=2);\n",
        "fig.update_xaxes(title_text=\"Children\", row=1, col=3);\n",
        "fig.show()\n"
      ]
    },
    {
      "cell_type": "markdown",
      "metadata": {
        "id": "cqP-UeN-z3i2"
      },
      "source": [
        "# Change working directory"
      ]
    },
    {
      "cell_type": "markdown",
      "metadata": {},
      "source": [
        "* We are assuming you will store the notebooks in a subfolder, therefore when running the notebook in the editor, you will need to change the working directory"
      ]
    },
    {
      "cell_type": "markdown",
      "metadata": {
        "id": "aOGIGS-uz3i2"
      },
      "source": [
        "We need to change the working directory from its current folder to its parent folder\n",
        "* We access the current directory with os.getcwd()"
      ]
    },
    {
      "cell_type": "code",
      "execution_count": 92,
      "metadata": {
        "id": "wZfF_j-Bz3i4",
        "outputId": "66943449-1436-4c3d-85c7-b85f9f78349b"
      },
      "outputs": [
        {
          "data": {
            "text/plain": [
              "'c:\\\\Users\\\\lilia\\\\Documents\\\\LP\\\\Data AI\\\\Hackathons\\\\H1_HealtInsurance'"
            ]
          },
          "execution_count": 92,
          "metadata": {},
          "output_type": "execute_result"
        }
      ],
      "source": [
        "import os\n",
        "current_dir = os.getcwd()\n",
        "current_dir"
      ]
    },
    {
      "cell_type": "markdown",
      "metadata": {
        "id": "9MWW8E7lz3i7"
      },
      "source": [
        "We want to make the parent of the current directory the new current directory\n",
        "* os.path.dirname() gets the parent directory\n",
        "* os.chir() defines the new current directory"
      ]
    },
    {
      "cell_type": "code",
      "execution_count": 93,
      "metadata": {
        "id": "TwHsQRWjz3i9",
        "outputId": "86849db3-cd2f-4cc5-ebb8-2d0caafa1a2c"
      },
      "outputs": [
        {
          "name": "stdout",
          "output_type": "stream",
          "text": [
            "You set a new current directory\n"
          ]
        }
      ],
      "source": [
        "os.chdir(os.path.dirname(current_dir))\n",
        "print(\"You set a new current directory\")"
      ]
    },
    {
      "cell_type": "markdown",
      "metadata": {
        "id": "M_xPk_Ijz3i-"
      },
      "source": [
        "Confirm the new current directory"
      ]
    },
    {
      "cell_type": "code",
      "execution_count": 94,
      "metadata": {
        "id": "vz3S-_kjz3jA",
        "outputId": "00b79ae4-75d0-4a96-d193-ac9ef9847ea2"
      },
      "outputs": [
        {
          "data": {
            "text/plain": [
              "'c:\\\\Users\\\\lilia\\\\Documents\\\\LP\\\\Data AI\\\\Hackathons'"
            ]
          },
          "execution_count": 94,
          "metadata": {},
          "output_type": "execute_result"
        }
      ],
      "source": [
        "current_dir = os.getcwd()\n",
        "current_dir"
      ]
    },
    {
      "cell_type": "markdown",
      "metadata": {},
      "source": [
        "---"
      ]
    },
    {
      "cell_type": "markdown",
      "metadata": {},
      "source": [
        "NOTE"
      ]
    },
    {
      "cell_type": "markdown",
      "metadata": {},
      "source": [
        "* You may add as many sections as you want, as long as it supports your project workflow.\n",
        "* All notebook's cells should be run top-down (you can't create a dynamic wherein a given point you need to go back to a previous cell to execute some task, like go back to a previous cell and refresh a variable content)"
      ]
    },
    {
      "cell_type": "markdown",
      "metadata": {},
      "source": [
        "---"
      ]
    },
    {
      "cell_type": "markdown",
      "metadata": {
        "id": "ltNetd085qHf"
      },
      "source": [
        "# Push files to Repo"
      ]
    },
    {
      "cell_type": "markdown",
      "metadata": {},
      "source": [
        "* In cases where you don't need to push files to Repo, you may replace this section with \"Conclusions and Next Steps\" and state your conclusions and next steps."
      ]
    },
    {
      "cell_type": "code",
      "execution_count": 95,
      "metadata": {
        "id": "aKlnIozA4eQO",
        "outputId": "fd09bc1f-adb1-4511-f6ce-492a6af570c0"
      },
      "outputs": [
        {
          "ename": "SyntaxError",
          "evalue": "invalid syntax (633730164.py, line 1)",
          "output_type": "error",
          "traceback": [
            "  \u001b[36mCell\u001b[39m\u001b[36m \u001b[39m\u001b[32mIn[95]\u001b[39m\u001b[32m, line 1\u001b[39m\n\u001b[31m    \u001b[39m\u001b[31mimport osexcept Exception as e:s e:\u001b[39m\n                    ^\n\u001b[31mSyntaxError\u001b[39m\u001b[31m:\u001b[39m invalid syntax\n"
          ]
        }
      ],
      "source": [
        "import osexcept Exception as e:s e:\n",
        "  print(e)\n"
      ]
    }
  ],
  "metadata": {
    "accelerator": "GPU",
    "colab": {
      "name": "Data Practitioner Jupyter Notebook.ipynb",
      "provenance": [],
      "toc_visible": true
    },
    "kernelspec": {
      "display_name": ".venv",
      "language": "python",
      "name": "python3"
    },
    "language_info": {
      "codemirror_mode": {
        "name": "ipython",
        "version": 3
      },
      "file_extension": ".py",
      "mimetype": "text/x-python",
      "name": "python",
      "nbconvert_exporter": "python",
      "pygments_lexer": "ipython3",
      "version": "3.12.8"
    },
    "orig_nbformat": 2
  },
  "nbformat": 4,
  "nbformat_minor": 2
}
